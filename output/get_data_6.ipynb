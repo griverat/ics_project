{
 "cells": [
  {
   "cell_type": "code",
   "execution_count": 1,
   "id": "a04f87d1-35f7-4fb5-97a2-7e490b35a4e6",
   "metadata": {
    "execution": {
     "iopub.execute_input": "2024-12-12T18:35:57.518703Z",
     "iopub.status.busy": "2024-12-12T18:35:57.518456Z",
     "iopub.status.idle": "2024-12-12T18:36:29.463203Z",
     "shell.execute_reply": "2024-12-12T18:36:29.462562Z"
    },
    "papermill": {
     "duration": 31.951384,
     "end_time": "2024-12-12T18:36:29.465285",
     "exception": false,
     "start_time": "2024-12-12T18:35:57.513901",
     "status": "completed"
    },
    "tags": []
   },
   "outputs": [
    {
     "data": {
      "text/plain": [
       "<xarray.core.options.set_options at 0x146eaa51bca0>"
      ]
     },
     "execution_count": 1,
     "metadata": {},
     "output_type": "execute_result"
    }
   ],
   "source": [
    "import json\n",
    "import os\n",
    "import re\n",
    "import warnings\n",
    "\n",
    "import fsspec\n",
    "import intake\n",
    "import numpy as np\n",
    "import pandas as pd\n",
    "import xarray as xr\n",
    "import xesmf as xe\n",
    "from dmelon.utils import check_folder\n",
    "from matplotlib import pyplot as plt\n",
    "from natsort import natsorted\n",
    "from xgcm import Grid\n",
    "from xmip.preprocessing import combined_preprocessing, replace_x_y_nominal_lat_lon\n",
    "\n",
    "warnings.filterwarnings(\"ignore\")\n",
    "xr.set_options(keep_attrs=True)"
   ]
  },
  {
   "cell_type": "code",
   "execution_count": 2,
   "id": "6fc66254-a325-4c37-ac38-b53a870dd2d9",
   "metadata": {
    "execution": {
     "iopub.execute_input": "2024-12-12T18:36:29.479060Z",
     "iopub.status.busy": "2024-12-12T18:36:29.477839Z",
     "iopub.status.idle": "2024-12-12T18:36:29.482223Z",
     "shell.execute_reply": "2024-12-12T18:36:29.481796Z"
    },
    "papermill": {
     "duration": 0.014878,
     "end_time": "2024-12-12T18:36:29.483421",
     "exception": false,
     "start_time": "2024-12-12T18:36:29.468543",
     "status": "completed"
    },
    "tags": []
   },
   "outputs": [],
   "source": [
    "# ROOT_DIR = \"/glade/work/griverat/DL-ECindex/\"\n",
    "# TARGET_RES = \"24x72\"\n",
    "# VARIABLE = \"tos\"\n",
    "# OUT_NAME_VAR = \"sst\"\n",
    "\n",
    "# OUT_PATH = os.path.join(ROOT_DIR, f\"DATA-Model/EC_model/CMIP6_gcp/\", VARIABLE)\n",
    "# TARGET_GRID_PATH = os.path.join(\n",
    "#     ROOT_DIR, f\"DATA-Model/EC_model/model.target.grid.{TARGET_RES}.nc\"\n",
    "# )\n",
    "\n",
    "# check_folder(OUT_PATH)"
   ]
  },
  {
   "cell_type": "code",
   "execution_count": 3,
   "id": "5df6ef40-e250-4474-b681-72a408719ffe",
   "metadata": {
    "editable": true,
    "execution": {
     "iopub.execute_input": "2024-12-12T18:36:29.490377Z",
     "iopub.status.busy": "2024-12-12T18:36:29.490199Z",
     "iopub.status.idle": "2024-12-12T18:36:29.495176Z",
     "shell.execute_reply": "2024-12-12T18:36:29.494738Z"
    },
    "papermill": {
     "duration": 0.010601,
     "end_time": "2024-12-12T18:36:29.496373",
     "exception": false,
     "start_time": "2024-12-12T18:36:29.485772",
     "status": "completed"
    },
    "slideshow": {
     "slide_type": ""
    },
    "tags": [
     "parameters"
    ]
   },
   "outputs": [],
   "source": [
    "# parameters\n",
    "n = 0"
   ]
  },
  {
   "cell_type": "code",
   "execution_count": 4,
   "id": "206b853e",
   "metadata": {
    "execution": {
     "iopub.execute_input": "2024-12-12T18:36:29.513146Z",
     "iopub.status.busy": "2024-12-12T18:36:29.512960Z",
     "iopub.status.idle": "2024-12-12T18:36:29.515880Z",
     "shell.execute_reply": "2024-12-12T18:36:29.515409Z"
    },
    "papermill": {
     "duration": 0.015948,
     "end_time": "2024-12-12T18:36:29.517130",
     "exception": false,
     "start_time": "2024-12-12T18:36:29.501182",
     "status": "completed"
    },
    "tags": [
     "injected-parameters"
    ]
   },
   "outputs": [],
   "source": [
    "# Parameters\n",
    "n = 6\n"
   ]
  },
  {
   "cell_type": "code",
   "execution_count": 5,
   "id": "5400eb3b-dfde-4258-bea5-1562000137d3",
   "metadata": {
    "execution": {
     "iopub.execute_input": "2024-12-12T18:36:29.527607Z",
     "iopub.status.busy": "2024-12-12T18:36:29.527433Z",
     "iopub.status.idle": "2024-12-12T18:36:34.756588Z",
     "shell.execute_reply": "2024-12-12T18:36:34.752047Z"
    },
    "papermill": {
     "duration": 5.23862,
     "end_time": "2024-12-12T18:36:34.758115",
     "exception": false,
     "start_time": "2024-12-12T18:36:29.519495",
     "status": "completed"
    },
    "tags": []
   },
   "outputs": [
    {
     "data": {
      "text/html": [
       "<div>\n",
       "<style scoped>\n",
       "    .dataframe tbody tr th:only-of-type {\n",
       "        vertical-align: middle;\n",
       "    }\n",
       "\n",
       "    .dataframe tbody tr th {\n",
       "        vertical-align: top;\n",
       "    }\n",
       "\n",
       "    .dataframe thead th {\n",
       "        text-align: right;\n",
       "    }\n",
       "</style>\n",
       "<table border=\"1\" class=\"dataframe\">\n",
       "  <thead>\n",
       "    <tr style=\"text-align: right;\">\n",
       "      <th></th>\n",
       "      <th>activity_id</th>\n",
       "      <th>institution_id</th>\n",
       "      <th>source_id</th>\n",
       "      <th>experiment_id</th>\n",
       "      <th>member_id</th>\n",
       "      <th>table_id</th>\n",
       "      <th>variable_id</th>\n",
       "      <th>grid_label</th>\n",
       "      <th>zstore</th>\n",
       "      <th>dcpp_init_year</th>\n",
       "      <th>version</th>\n",
       "    </tr>\n",
       "  </thead>\n",
       "  <tbody>\n",
       "    <tr>\n",
       "      <th>0</th>\n",
       "      <td>HighResMIP</td>\n",
       "      <td>CMCC</td>\n",
       "      <td>CMCC-CM2-HR4</td>\n",
       "      <td>highresSST-present</td>\n",
       "      <td>r1i1p1f1</td>\n",
       "      <td>Amon</td>\n",
       "      <td>ps</td>\n",
       "      <td>gn</td>\n",
       "      <td>gs://cmip6/CMIP6/HighResMIP/CMCC/CMCC-CM2-HR4/...</td>\n",
       "      <td>NaN</td>\n",
       "      <td>20170706</td>\n",
       "    </tr>\n",
       "    <tr>\n",
       "      <th>1</th>\n",
       "      <td>HighResMIP</td>\n",
       "      <td>CMCC</td>\n",
       "      <td>CMCC-CM2-HR4</td>\n",
       "      <td>highresSST-present</td>\n",
       "      <td>r1i1p1f1</td>\n",
       "      <td>Amon</td>\n",
       "      <td>rsds</td>\n",
       "      <td>gn</td>\n",
       "      <td>gs://cmip6/CMIP6/HighResMIP/CMCC/CMCC-CM2-HR4/...</td>\n",
       "      <td>NaN</td>\n",
       "      <td>20170706</td>\n",
       "    </tr>\n",
       "    <tr>\n",
       "      <th>2</th>\n",
       "      <td>HighResMIP</td>\n",
       "      <td>CMCC</td>\n",
       "      <td>CMCC-CM2-HR4</td>\n",
       "      <td>highresSST-present</td>\n",
       "      <td>r1i1p1f1</td>\n",
       "      <td>Amon</td>\n",
       "      <td>rlus</td>\n",
       "      <td>gn</td>\n",
       "      <td>gs://cmip6/CMIP6/HighResMIP/CMCC/CMCC-CM2-HR4/...</td>\n",
       "      <td>NaN</td>\n",
       "      <td>20170706</td>\n",
       "    </tr>\n",
       "    <tr>\n",
       "      <th>3</th>\n",
       "      <td>HighResMIP</td>\n",
       "      <td>CMCC</td>\n",
       "      <td>CMCC-CM2-HR4</td>\n",
       "      <td>highresSST-present</td>\n",
       "      <td>r1i1p1f1</td>\n",
       "      <td>Amon</td>\n",
       "      <td>rlds</td>\n",
       "      <td>gn</td>\n",
       "      <td>gs://cmip6/CMIP6/HighResMIP/CMCC/CMCC-CM2-HR4/...</td>\n",
       "      <td>NaN</td>\n",
       "      <td>20170706</td>\n",
       "    </tr>\n",
       "    <tr>\n",
       "      <th>4</th>\n",
       "      <td>HighResMIP</td>\n",
       "      <td>CMCC</td>\n",
       "      <td>CMCC-CM2-HR4</td>\n",
       "      <td>highresSST-present</td>\n",
       "      <td>r1i1p1f1</td>\n",
       "      <td>Amon</td>\n",
       "      <td>psl</td>\n",
       "      <td>gn</td>\n",
       "      <td>gs://cmip6/CMIP6/HighResMIP/CMCC/CMCC-CM2-HR4/...</td>\n",
       "      <td>NaN</td>\n",
       "      <td>20170706</td>\n",
       "    </tr>\n",
       "  </tbody>\n",
       "</table>\n",
       "</div>"
      ],
      "text/plain": [
       "  activity_id institution_id     source_id       experiment_id member_id  \\\n",
       "0  HighResMIP           CMCC  CMCC-CM2-HR4  highresSST-present  r1i1p1f1   \n",
       "1  HighResMIP           CMCC  CMCC-CM2-HR4  highresSST-present  r1i1p1f1   \n",
       "2  HighResMIP           CMCC  CMCC-CM2-HR4  highresSST-present  r1i1p1f1   \n",
       "3  HighResMIP           CMCC  CMCC-CM2-HR4  highresSST-present  r1i1p1f1   \n",
       "4  HighResMIP           CMCC  CMCC-CM2-HR4  highresSST-present  r1i1p1f1   \n",
       "\n",
       "  table_id variable_id grid_label  \\\n",
       "0     Amon          ps         gn   \n",
       "1     Amon        rsds         gn   \n",
       "2     Amon        rlus         gn   \n",
       "3     Amon        rlds         gn   \n",
       "4     Amon         psl         gn   \n",
       "\n",
       "                                              zstore  dcpp_init_year   version  \n",
       "0  gs://cmip6/CMIP6/HighResMIP/CMCC/CMCC-CM2-HR4/...             NaN  20170706  \n",
       "1  gs://cmip6/CMIP6/HighResMIP/CMCC/CMCC-CM2-HR4/...             NaN  20170706  \n",
       "2  gs://cmip6/CMIP6/HighResMIP/CMCC/CMCC-CM2-HR4/...             NaN  20170706  \n",
       "3  gs://cmip6/CMIP6/HighResMIP/CMCC/CMCC-CM2-HR4/...             NaN  20170706  \n",
       "4  gs://cmip6/CMIP6/HighResMIP/CMCC/CMCC-CM2-HR4/...             NaN  20170706  "
      ]
     },
     "execution_count": 5,
     "metadata": {},
     "output_type": "execute_result"
    }
   ],
   "source": [
    "# url = \"https://storage.googleapis.com/cmip6/pangeo-cmip6-noQC.json\"\n",
    "# url = \"/glade/collections/cmip/catalog/intake-esm-datastore/catalogs/glade-cmip6.json\"\n",
    "# col = intake.open_esm_datastore(url)\n",
    "\n",
    "col = pd.read_csv(\n",
    "    \"https://storage.googleapis.com/cmip6/cmip6-zarr-consolidated-stores.csv\"\n",
    ")\n",
    "col.head()"
   ]
  },
  {
   "cell_type": "markdown",
   "id": "37e9b678-070e-473d-9ca9-ab79f7602cbb",
   "metadata": {
    "papermill": {
     "duration": 0.002497,
     "end_time": "2024-12-12T18:36:34.764487",
     "exception": false,
     "start_time": "2024-12-12T18:36:34.761990",
     "status": "completed"
    },
    "tags": []
   },
   "source": [
    "We need to regrid the incoming CMIP6 data to a rectilinear grid first. This way we can later regrid again using a conservative method that works better between rectilinear grids."
   ]
  },
  {
   "cell_type": "code",
   "execution_count": 6,
   "id": "dd0b13f6-80e4-4550-a871-8b72d10c64e3",
   "metadata": {
    "execution": {
     "iopub.execute_input": "2024-12-12T18:36:34.793546Z",
     "iopub.status.busy": "2024-12-12T18:36:34.793294Z",
     "iopub.status.idle": "2024-12-12T18:36:34.808466Z",
     "shell.execute_reply": "2024-12-12T18:36:34.807963Z"
    },
    "papermill": {
     "duration": 0.03316,
     "end_time": "2024-12-12T18:36:34.809568",
     "exception": false,
     "start_time": "2024-12-12T18:36:34.776408",
     "status": "completed"
    },
    "tags": []
   },
   "outputs": [
    {
     "data": {
      "text/html": [
       "<div><svg style=\"position: absolute; width: 0; height: 0; overflow: hidden\">\n",
       "<defs>\n",
       "<symbol id=\"icon-database\" viewBox=\"0 0 32 32\">\n",
       "<path d=\"M16 0c-8.837 0-16 2.239-16 5v4c0 2.761 7.163 5 16 5s16-2.239 16-5v-4c0-2.761-7.163-5-16-5z\"></path>\n",
       "<path d=\"M16 17c-8.837 0-16-2.239-16-5v6c0 2.761 7.163 5 16 5s16-2.239 16-5v-6c0 2.761-7.163 5-16 5z\"></path>\n",
       "<path d=\"M16 26c-8.837 0-16-2.239-16-5v6c0 2.761 7.163 5 16 5s16-2.239 16-5v-6c0 2.761-7.163 5-16 5z\"></path>\n",
       "</symbol>\n",
       "<symbol id=\"icon-file-text2\" viewBox=\"0 0 32 32\">\n",
       "<path d=\"M28.681 7.159c-0.694-0.947-1.662-2.053-2.724-3.116s-2.169-2.030-3.116-2.724c-1.612-1.182-2.393-1.319-2.841-1.319h-15.5c-1.378 0-2.5 1.121-2.5 2.5v27c0 1.378 1.122 2.5 2.5 2.5h23c1.378 0 2.5-1.122 2.5-2.5v-19.5c0-0.448-0.137-1.23-1.319-2.841zM24.543 5.457c0.959 0.959 1.712 1.825 2.268 2.543h-4.811v-4.811c0.718 0.556 1.584 1.309 2.543 2.268zM28 29.5c0 0.271-0.229 0.5-0.5 0.5h-23c-0.271 0-0.5-0.229-0.5-0.5v-27c0-0.271 0.229-0.5 0.5-0.5 0 0 15.499-0 15.5 0v7c0 0.552 0.448 1 1 1h7v19.5z\"></path>\n",
       "<path d=\"M23 26h-14c-0.552 0-1-0.448-1-1s0.448-1 1-1h14c0.552 0 1 0.448 1 1s-0.448 1-1 1z\"></path>\n",
       "<path d=\"M23 22h-14c-0.552 0-1-0.448-1-1s0.448-1 1-1h14c0.552 0 1 0.448 1 1s-0.448 1-1 1z\"></path>\n",
       "<path d=\"M23 18h-14c-0.552 0-1-0.448-1-1s0.448-1 1-1h14c0.552 0 1 0.448 1 1s-0.448 1-1 1z\"></path>\n",
       "</symbol>\n",
       "</defs>\n",
       "</svg>\n",
       "<style>/* CSS stylesheet for displaying xarray objects in jupyterlab.\n",
       " *\n",
       " */\n",
       "\n",
       ":root {\n",
       "  --xr-font-color0: var(--jp-content-font-color0, rgba(0, 0, 0, 1));\n",
       "  --xr-font-color2: var(--jp-content-font-color2, rgba(0, 0, 0, 0.54));\n",
       "  --xr-font-color3: var(--jp-content-font-color3, rgba(0, 0, 0, 0.38));\n",
       "  --xr-border-color: var(--jp-border-color2, #e0e0e0);\n",
       "  --xr-disabled-color: var(--jp-layout-color3, #bdbdbd);\n",
       "  --xr-background-color: var(--jp-layout-color0, white);\n",
       "  --xr-background-color-row-even: var(--jp-layout-color1, white);\n",
       "  --xr-background-color-row-odd: var(--jp-layout-color2, #eeeeee);\n",
       "}\n",
       "\n",
       "html[theme=dark],\n",
       "body[data-theme=dark],\n",
       "body.vscode-dark {\n",
       "  --xr-font-color0: rgba(255, 255, 255, 1);\n",
       "  --xr-font-color2: rgba(255, 255, 255, 0.54);\n",
       "  --xr-font-color3: rgba(255, 255, 255, 0.38);\n",
       "  --xr-border-color: #1F1F1F;\n",
       "  --xr-disabled-color: #515151;\n",
       "  --xr-background-color: #111111;\n",
       "  --xr-background-color-row-even: #111111;\n",
       "  --xr-background-color-row-odd: #313131;\n",
       "}\n",
       "\n",
       ".xr-wrap {\n",
       "  display: block !important;\n",
       "  min-width: 300px;\n",
       "  max-width: 700px;\n",
       "}\n",
       "\n",
       ".xr-text-repr-fallback {\n",
       "  /* fallback to plain text repr when CSS is not injected (untrusted notebook) */\n",
       "  display: none;\n",
       "}\n",
       "\n",
       ".xr-header {\n",
       "  padding-top: 6px;\n",
       "  padding-bottom: 6px;\n",
       "  margin-bottom: 4px;\n",
       "  border-bottom: solid 1px var(--xr-border-color);\n",
       "}\n",
       "\n",
       ".xr-header > div,\n",
       ".xr-header > ul {\n",
       "  display: inline;\n",
       "  margin-top: 0;\n",
       "  margin-bottom: 0;\n",
       "}\n",
       "\n",
       ".xr-obj-type,\n",
       ".xr-array-name {\n",
       "  margin-left: 2px;\n",
       "  margin-right: 10px;\n",
       "}\n",
       "\n",
       ".xr-obj-type {\n",
       "  color: var(--xr-font-color2);\n",
       "}\n",
       "\n",
       ".xr-sections {\n",
       "  padding-left: 0 !important;\n",
       "  display: grid;\n",
       "  grid-template-columns: 150px auto auto 1fr 20px 20px;\n",
       "}\n",
       "\n",
       ".xr-section-item {\n",
       "  display: contents;\n",
       "}\n",
       "\n",
       ".xr-section-item input {\n",
       "  display: none;\n",
       "}\n",
       "\n",
       ".xr-section-item input + label {\n",
       "  color: var(--xr-disabled-color);\n",
       "}\n",
       "\n",
       ".xr-section-item input:enabled + label {\n",
       "  cursor: pointer;\n",
       "  color: var(--xr-font-color2);\n",
       "}\n",
       "\n",
       ".xr-section-item input:enabled + label:hover {\n",
       "  color: var(--xr-font-color0);\n",
       "}\n",
       "\n",
       ".xr-section-summary {\n",
       "  grid-column: 1;\n",
       "  color: var(--xr-font-color2);\n",
       "  font-weight: 500;\n",
       "}\n",
       "\n",
       ".xr-section-summary > span {\n",
       "  display: inline-block;\n",
       "  padding-left: 0.5em;\n",
       "}\n",
       "\n",
       ".xr-section-summary-in:disabled + label {\n",
       "  color: var(--xr-font-color2);\n",
       "}\n",
       "\n",
       ".xr-section-summary-in + label:before {\n",
       "  display: inline-block;\n",
       "  content: '►';\n",
       "  font-size: 11px;\n",
       "  width: 15px;\n",
       "  text-align: center;\n",
       "}\n",
       "\n",
       ".xr-section-summary-in:disabled + label:before {\n",
       "  color: var(--xr-disabled-color);\n",
       "}\n",
       "\n",
       ".xr-section-summary-in:checked + label:before {\n",
       "  content: '▼';\n",
       "}\n",
       "\n",
       ".xr-section-summary-in:checked + label > span {\n",
       "  display: none;\n",
       "}\n",
       "\n",
       ".xr-section-summary,\n",
       ".xr-section-inline-details {\n",
       "  padding-top: 4px;\n",
       "  padding-bottom: 4px;\n",
       "}\n",
       "\n",
       ".xr-section-inline-details {\n",
       "  grid-column: 2 / -1;\n",
       "}\n",
       "\n",
       ".xr-section-details {\n",
       "  display: none;\n",
       "  grid-column: 1 / -1;\n",
       "  margin-bottom: 5px;\n",
       "}\n",
       "\n",
       ".xr-section-summary-in:checked ~ .xr-section-details {\n",
       "  display: contents;\n",
       "}\n",
       "\n",
       ".xr-array-wrap {\n",
       "  grid-column: 1 / -1;\n",
       "  display: grid;\n",
       "  grid-template-columns: 20px auto;\n",
       "}\n",
       "\n",
       ".xr-array-wrap > label {\n",
       "  grid-column: 1;\n",
       "  vertical-align: top;\n",
       "}\n",
       "\n",
       ".xr-preview {\n",
       "  color: var(--xr-font-color3);\n",
       "}\n",
       "\n",
       ".xr-array-preview,\n",
       ".xr-array-data {\n",
       "  padding: 0 5px !important;\n",
       "  grid-column: 2;\n",
       "}\n",
       "\n",
       ".xr-array-data,\n",
       ".xr-array-in:checked ~ .xr-array-preview {\n",
       "  display: none;\n",
       "}\n",
       "\n",
       ".xr-array-in:checked ~ .xr-array-data,\n",
       ".xr-array-preview {\n",
       "  display: inline-block;\n",
       "}\n",
       "\n",
       ".xr-dim-list {\n",
       "  display: inline-block !important;\n",
       "  list-style: none;\n",
       "  padding: 0 !important;\n",
       "  margin: 0;\n",
       "}\n",
       "\n",
       ".xr-dim-list li {\n",
       "  display: inline-block;\n",
       "  padding: 0;\n",
       "  margin: 0;\n",
       "}\n",
       "\n",
       ".xr-dim-list:before {\n",
       "  content: '(';\n",
       "}\n",
       "\n",
       ".xr-dim-list:after {\n",
       "  content: ')';\n",
       "}\n",
       "\n",
       ".xr-dim-list li:not(:last-child):after {\n",
       "  content: ',';\n",
       "  padding-right: 5px;\n",
       "}\n",
       "\n",
       ".xr-has-index {\n",
       "  font-weight: bold;\n",
       "}\n",
       "\n",
       ".xr-var-list,\n",
       ".xr-var-item {\n",
       "  display: contents;\n",
       "}\n",
       "\n",
       ".xr-var-item > div,\n",
       ".xr-var-item label,\n",
       ".xr-var-item > .xr-var-name span {\n",
       "  background-color: var(--xr-background-color-row-even);\n",
       "  margin-bottom: 0;\n",
       "}\n",
       "\n",
       ".xr-var-item > .xr-var-name:hover span {\n",
       "  padding-right: 5px;\n",
       "}\n",
       "\n",
       ".xr-var-list > li:nth-child(odd) > div,\n",
       ".xr-var-list > li:nth-child(odd) > label,\n",
       ".xr-var-list > li:nth-child(odd) > .xr-var-name span {\n",
       "  background-color: var(--xr-background-color-row-odd);\n",
       "}\n",
       "\n",
       ".xr-var-name {\n",
       "  grid-column: 1;\n",
       "}\n",
       "\n",
       ".xr-var-dims {\n",
       "  grid-column: 2;\n",
       "}\n",
       "\n",
       ".xr-var-dtype {\n",
       "  grid-column: 3;\n",
       "  text-align: right;\n",
       "  color: var(--xr-font-color2);\n",
       "}\n",
       "\n",
       ".xr-var-preview {\n",
       "  grid-column: 4;\n",
       "}\n",
       "\n",
       ".xr-index-preview {\n",
       "  grid-column: 2 / 5;\n",
       "  color: var(--xr-font-color2);\n",
       "}\n",
       "\n",
       ".xr-var-name,\n",
       ".xr-var-dims,\n",
       ".xr-var-dtype,\n",
       ".xr-preview,\n",
       ".xr-attrs dt {\n",
       "  white-space: nowrap;\n",
       "  overflow: hidden;\n",
       "  text-overflow: ellipsis;\n",
       "  padding-right: 10px;\n",
       "}\n",
       "\n",
       ".xr-var-name:hover,\n",
       ".xr-var-dims:hover,\n",
       ".xr-var-dtype:hover,\n",
       ".xr-attrs dt:hover {\n",
       "  overflow: visible;\n",
       "  width: auto;\n",
       "  z-index: 1;\n",
       "}\n",
       "\n",
       ".xr-var-attrs,\n",
       ".xr-var-data,\n",
       ".xr-index-data {\n",
       "  display: none;\n",
       "  background-color: var(--xr-background-color) !important;\n",
       "  padding-bottom: 5px !important;\n",
       "}\n",
       "\n",
       ".xr-var-attrs-in:checked ~ .xr-var-attrs,\n",
       ".xr-var-data-in:checked ~ .xr-var-data,\n",
       ".xr-index-data-in:checked ~ .xr-index-data {\n",
       "  display: block;\n",
       "}\n",
       "\n",
       ".xr-var-data > table {\n",
       "  float: right;\n",
       "}\n",
       "\n",
       ".xr-var-name span,\n",
       ".xr-var-data,\n",
       ".xr-index-name div,\n",
       ".xr-index-data,\n",
       ".xr-attrs {\n",
       "  padding-left: 25px !important;\n",
       "}\n",
       "\n",
       ".xr-attrs,\n",
       ".xr-var-attrs,\n",
       ".xr-var-data,\n",
       ".xr-index-data {\n",
       "  grid-column: 1 / -1;\n",
       "}\n",
       "\n",
       "dl.xr-attrs {\n",
       "  padding: 0;\n",
       "  margin: 0;\n",
       "  display: grid;\n",
       "  grid-template-columns: 125px auto;\n",
       "}\n",
       "\n",
       ".xr-attrs dt,\n",
       ".xr-attrs dd {\n",
       "  padding: 0;\n",
       "  margin: 0;\n",
       "  float: left;\n",
       "  padding-right: 10px;\n",
       "  width: auto;\n",
       "}\n",
       "\n",
       ".xr-attrs dt {\n",
       "  font-weight: normal;\n",
       "  grid-column: 1;\n",
       "}\n",
       "\n",
       ".xr-attrs dt:hover span {\n",
       "  display: inline-block;\n",
       "  background: var(--xr-background-color);\n",
       "  padding-right: 10px;\n",
       "}\n",
       "\n",
       ".xr-attrs dd {\n",
       "  grid-column: 2;\n",
       "  white-space: pre-wrap;\n",
       "  word-break: break-all;\n",
       "}\n",
       "\n",
       ".xr-icon-database,\n",
       ".xr-icon-file-text2,\n",
       ".xr-no-icon {\n",
       "  display: inline-block;\n",
       "  vertical-align: middle;\n",
       "  width: 1em;\n",
       "  height: 1.5em !important;\n",
       "  stroke-width: 0;\n",
       "  stroke: currentColor;\n",
       "  fill: currentColor;\n",
       "}\n",
       "</style><pre class='xr-text-repr-fallback'>&lt;xarray.Dataset&gt;\n",
       "Dimensions:  (y: 180, x: 360, y_b: 181, x_b: 361)\n",
       "Coordinates:\n",
       "    lon      (y, x) float64 0.5 1.5 2.5 3.5 4.5 ... 356.5 357.5 358.5 359.5\n",
       "    lat      (y, x) float64 -89.5 -89.5 -89.5 -89.5 ... 89.5 89.5 89.5 89.5\n",
       "    lon_b    (y_b, x_b) float64 0.0 1.0 2.0 3.0 4.0 ... 357.0 358.0 359.0 360.0\n",
       "    lat_b    (y_b, x_b) float64 -90.0 -90.0 -90.0 -90.0 ... 90.0 90.0 90.0 90.0\n",
       "Dimensions without coordinates: y, x, y_b, x_b\n",
       "Data variables:\n",
       "    *empty*</pre><div class='xr-wrap' style='display:none'><div class='xr-header'><div class='xr-obj-type'>xarray.Dataset</div></div><ul class='xr-sections'><li class='xr-section-item'><input id='section-241db9c6-86ed-4f64-8184-0581cc5054f6' class='xr-section-summary-in' type='checkbox' disabled ><label for='section-241db9c6-86ed-4f64-8184-0581cc5054f6' class='xr-section-summary'  title='Expand/collapse section'>Dimensions:</label><div class='xr-section-inline-details'><ul class='xr-dim-list'><li><span>y</span>: 180</li><li><span>x</span>: 360</li><li><span>y_b</span>: 181</li><li><span>x_b</span>: 361</li></ul></div><div class='xr-section-details'></div></li><li class='xr-section-item'><input id='section-396cb942-1871-4e30-89fb-360ee663e438' class='xr-section-summary-in' type='checkbox'  checked><label for='section-396cb942-1871-4e30-89fb-360ee663e438' class='xr-section-summary' >Coordinates: <span>(4)</span></label><div class='xr-section-inline-details'></div><div class='xr-section-details'><ul class='xr-var-list'><li class='xr-var-item'><div class='xr-var-name'><span>lon</span></div><div class='xr-var-dims'>(y, x)</div><div class='xr-var-dtype'>float64</div><div class='xr-var-preview xr-preview'>0.5 1.5 2.5 ... 357.5 358.5 359.5</div><input id='attrs-d744c5c7-8160-4a83-a9ad-41ecd7bff1c0' class='xr-var-attrs-in' type='checkbox' ><label for='attrs-d744c5c7-8160-4a83-a9ad-41ecd7bff1c0' title='Show/Hide attributes'><svg class='icon xr-icon-file-text2'><use xlink:href='#icon-file-text2'></use></svg></label><input id='data-b14eb146-f821-4bc9-aaea-c67f0164fba3' class='xr-var-data-in' type='checkbox'><label for='data-b14eb146-f821-4bc9-aaea-c67f0164fba3' title='Show/Hide data repr'><svg class='icon xr-icon-database'><use xlink:href='#icon-database'></use></svg></label><div class='xr-var-attrs'><dl class='xr-attrs'><dt><span>standard_name :</span></dt><dd>longitude</dd></dl></div><div class='xr-var-data'><pre>array([[  0.5,   1.5,   2.5, ..., 357.5, 358.5, 359.5],\n",
       "       [  0.5,   1.5,   2.5, ..., 357.5, 358.5, 359.5],\n",
       "       [  0.5,   1.5,   2.5, ..., 357.5, 358.5, 359.5],\n",
       "       ...,\n",
       "       [  0.5,   1.5,   2.5, ..., 357.5, 358.5, 359.5],\n",
       "       [  0.5,   1.5,   2.5, ..., 357.5, 358.5, 359.5],\n",
       "       [  0.5,   1.5,   2.5, ..., 357.5, 358.5, 359.5]])</pre></div></li><li class='xr-var-item'><div class='xr-var-name'><span>lat</span></div><div class='xr-var-dims'>(y, x)</div><div class='xr-var-dtype'>float64</div><div class='xr-var-preview xr-preview'>-89.5 -89.5 -89.5 ... 89.5 89.5</div><input id='attrs-098a56f6-dfaf-40b1-adaa-9d986c956bc2' class='xr-var-attrs-in' type='checkbox' ><label for='attrs-098a56f6-dfaf-40b1-adaa-9d986c956bc2' title='Show/Hide attributes'><svg class='icon xr-icon-file-text2'><use xlink:href='#icon-file-text2'></use></svg></label><input id='data-2d49c504-9126-48fa-bcfc-a381c257bb7a' class='xr-var-data-in' type='checkbox'><label for='data-2d49c504-9126-48fa-bcfc-a381c257bb7a' title='Show/Hide data repr'><svg class='icon xr-icon-database'><use xlink:href='#icon-database'></use></svg></label><div class='xr-var-attrs'><dl class='xr-attrs'><dt><span>standard_name :</span></dt><dd>latitude</dd></dl></div><div class='xr-var-data'><pre>array([[-89.5, -89.5, -89.5, ..., -89.5, -89.5, -89.5],\n",
       "       [-88.5, -88.5, -88.5, ..., -88.5, -88.5, -88.5],\n",
       "       [-87.5, -87.5, -87.5, ..., -87.5, -87.5, -87.5],\n",
       "       ...,\n",
       "       [ 87.5,  87.5,  87.5, ...,  87.5,  87.5,  87.5],\n",
       "       [ 88.5,  88.5,  88.5, ...,  88.5,  88.5,  88.5],\n",
       "       [ 89.5,  89.5,  89.5, ...,  89.5,  89.5,  89.5]])</pre></div></li><li class='xr-var-item'><div class='xr-var-name'><span>lon_b</span></div><div class='xr-var-dims'>(y_b, x_b)</div><div class='xr-var-dtype'>float64</div><div class='xr-var-preview xr-preview'>0.0 1.0 2.0 ... 358.0 359.0 360.0</div><input id='attrs-80b464ba-382b-42e3-bef1-aca1ff828f81' class='xr-var-attrs-in' type='checkbox' disabled><label for='attrs-80b464ba-382b-42e3-bef1-aca1ff828f81' title='Show/Hide attributes'><svg class='icon xr-icon-file-text2'><use xlink:href='#icon-file-text2'></use></svg></label><input id='data-68094bda-d668-448a-ae22-339b01510c2d' class='xr-var-data-in' type='checkbox'><label for='data-68094bda-d668-448a-ae22-339b01510c2d' title='Show/Hide data repr'><svg class='icon xr-icon-database'><use xlink:href='#icon-database'></use></svg></label><div class='xr-var-attrs'><dl class='xr-attrs'></dl></div><div class='xr-var-data'><pre>array([[  0.,   1.,   2., ..., 358., 359., 360.],\n",
       "       [  0.,   1.,   2., ..., 358., 359., 360.],\n",
       "       [  0.,   1.,   2., ..., 358., 359., 360.],\n",
       "       ...,\n",
       "       [  0.,   1.,   2., ..., 358., 359., 360.],\n",
       "       [  0.,   1.,   2., ..., 358., 359., 360.],\n",
       "       [  0.,   1.,   2., ..., 358., 359., 360.]])</pre></div></li><li class='xr-var-item'><div class='xr-var-name'><span>lat_b</span></div><div class='xr-var-dims'>(y_b, x_b)</div><div class='xr-var-dtype'>float64</div><div class='xr-var-preview xr-preview'>-90.0 -90.0 -90.0 ... 90.0 90.0</div><input id='attrs-8bc4e3f9-a855-4b56-8160-28f4d23d715a' class='xr-var-attrs-in' type='checkbox' disabled><label for='attrs-8bc4e3f9-a855-4b56-8160-28f4d23d715a' title='Show/Hide attributes'><svg class='icon xr-icon-file-text2'><use xlink:href='#icon-file-text2'></use></svg></label><input id='data-a0313d0f-78da-4744-b439-3edc2b13cb42' class='xr-var-data-in' type='checkbox'><label for='data-a0313d0f-78da-4744-b439-3edc2b13cb42' title='Show/Hide data repr'><svg class='icon xr-icon-database'><use xlink:href='#icon-database'></use></svg></label><div class='xr-var-attrs'><dl class='xr-attrs'></dl></div><div class='xr-var-data'><pre>array([[-90., -90., -90., ..., -90., -90., -90.],\n",
       "       [-89., -89., -89., ..., -89., -89., -89.],\n",
       "       [-88., -88., -88., ..., -88., -88., -88.],\n",
       "       ...,\n",
       "       [ 88.,  88.,  88., ...,  88.,  88.,  88.],\n",
       "       [ 89.,  89.,  89., ...,  89.,  89.,  89.],\n",
       "       [ 90.,  90.,  90., ...,  90.,  90.,  90.]])</pre></div></li></ul></div></li><li class='xr-section-item'><input id='section-8d8f6c2e-7bce-4305-9386-dcdb2e094b4e' class='xr-section-summary-in' type='checkbox' disabled ><label for='section-8d8f6c2e-7bce-4305-9386-dcdb2e094b4e' class='xr-section-summary'  title='Expand/collapse section'>Data variables: <span>(0)</span></label><div class='xr-section-inline-details'></div><div class='xr-section-details'><ul class='xr-var-list'></ul></div></li><li class='xr-section-item'><input id='section-c74e6396-0e1c-4783-9789-806c1b5ce1de' class='xr-section-summary-in' type='checkbox' disabled ><label for='section-c74e6396-0e1c-4783-9789-806c1b5ce1de' class='xr-section-summary'  title='Expand/collapse section'>Indexes: <span>(0)</span></label><div class='xr-section-inline-details'></div><div class='xr-section-details'><ul class='xr-var-list'></ul></div></li><li class='xr-section-item'><input id='section-08ab96f3-0a8d-4773-a04b-a99793cbff88' class='xr-section-summary-in' type='checkbox' disabled ><label for='section-08ab96f3-0a8d-4773-a04b-a99793cbff88' class='xr-section-summary'  title='Expand/collapse section'>Attributes: <span>(0)</span></label><div class='xr-section-inline-details'></div><div class='xr-section-details'><dl class='xr-attrs'></dl></div></li></ul></div></div>"
      ],
      "text/plain": [
       "<xarray.Dataset>\n",
       "Dimensions:  (y: 180, x: 360, y_b: 181, x_b: 361)\n",
       "Coordinates:\n",
       "    lon      (y, x) float64 0.5 1.5 2.5 3.5 4.5 ... 356.5 357.5 358.5 359.5\n",
       "    lat      (y, x) float64 -89.5 -89.5 -89.5 -89.5 ... 89.5 89.5 89.5 89.5\n",
       "    lon_b    (y_b, x_b) float64 0.0 1.0 2.0 3.0 4.0 ... 357.0 358.0 359.0 360.0\n",
       "    lat_b    (y_b, x_b) float64 -90.0 -90.0 -90.0 -90.0 ... 90.0 90.0 90.0 90.0\n",
       "Dimensions without coordinates: y, x, y_b, x_b\n",
       "Data variables:\n",
       "    *empty*"
      ]
     },
     "execution_count": 6,
     "metadata": {},
     "output_type": "execute_result"
    }
   ],
   "source": [
    "target_rect_grid = xe.util.grid_global(1, 1, lon1=360)\n",
    "target_rect_grid"
   ]
  },
  {
   "cell_type": "markdown",
   "id": "dc77f493-8fbb-4664-97fb-6dff314462d5",
   "metadata": {
    "papermill": {
     "duration": 0.016126,
     "end_time": "2024-12-12T18:36:34.840211",
     "exception": false,
     "start_time": "2024-12-12T18:36:34.824085",
     "status": "completed"
    },
    "tags": []
   },
   "source": [
    "Now we load the target grid that our output data will have"
   ]
  },
  {
   "cell_type": "code",
   "execution_count": 7,
   "id": "ba274d3d-a557-4d42-9e7a-f5d3ac1bc850",
   "metadata": {
    "execution": {
     "iopub.execute_input": "2024-12-12T18:36:34.869454Z",
     "iopub.status.busy": "2024-12-12T18:36:34.869207Z",
     "iopub.status.idle": "2024-12-12T18:36:34.872094Z",
     "shell.execute_reply": "2024-12-12T18:36:34.871507Z"
    },
    "papermill": {
     "duration": 0.017211,
     "end_time": "2024-12-12T18:36:34.873286",
     "exception": false,
     "start_time": "2024-12-12T18:36:34.856075",
     "status": "completed"
    },
    "tags": []
   },
   "outputs": [],
   "source": [
    "# target_grid = xr.open_dataset(TARGET_GRID_PATH)\n",
    "# target_grid"
   ]
  },
  {
   "cell_type": "markdown",
   "id": "0d2088c6-5449-4fdd-9255-8e9fdde2efc4",
   "metadata": {
    "papermill": {
     "duration": 0.012354,
     "end_time": "2024-12-12T18:36:34.892874",
     "exception": false,
     "start_time": "2024-12-12T18:36:34.880520",
     "status": "completed"
    },
    "tags": []
   },
   "source": [
    "Here we build the query to the intake catalog. We use sets here to easily find which models have all of the variables"
   ]
  },
  {
   "cell_type": "code",
   "execution_count": 8,
   "id": "7c6e84ab-4c07-4294-ab46-55e75cf78e44",
   "metadata": {
    "editable": true,
    "execution": {
     "iopub.execute_input": "2024-12-12T18:36:34.925212Z",
     "iopub.status.busy": "2024-12-12T18:36:34.924990Z",
     "iopub.status.idle": "2024-12-12T18:36:36.029456Z",
     "shell.execute_reply": "2024-12-12T18:36:36.028946Z"
    },
    "papermill": {
     "duration": 1.118771,
     "end_time": "2024-12-12T18:36:36.030826",
     "exception": false,
     "start_time": "2024-12-12T18:36:34.912055",
     "status": "completed"
    },
    "slideshow": {
     "slide_type": ""
    },
    "tags": []
   },
   "outputs": [
    {
     "name": "stdout",
     "output_type": "stream",
     "text": [
      "Found 40 models with {'Amon': ['pr', 'uas', 'vas'], 'Omon': ['tos', 'zos']} monthly variables available\n",
      "\n",
      "['ACCESS-CM2', 'ACCESS-ESM1-5', 'AWI-ESM-1-1-LR', 'BCC-CSM2-MR', 'BCC-ESM1', 'CAMS-CSM1-0', 'CAS-ESM2-0', 'CMCC-CM2-HR4', 'CMCC-CM2-SR5', 'CMCC-ESM2', 'CNRM-CM6-1', 'CNRM-CM6-1-HR', 'CNRM-ESM2-1', 'CanESM5', 'CanESM5-CanOE', 'EC-Earth3', 'EC-Earth3-AerChem', 'EC-Earth3-CC', 'EC-Earth3-Veg', 'EC-Earth3-Veg-LR', 'FGOALS-f3-L', 'GFDL-CM4', 'GFDL-ESM4', 'GISS-E2-1-G', 'GISS-E2-1-G-CC', 'GISS-E2-1-H', 'HadGEM3-GC31-LL', 'HadGEM3-GC31-MM', 'INM-CM4-8', 'INM-CM5-0', 'IPSL-CM6A-LR', 'MIROC-ES2L', 'MIROC6', 'MPI-ESM-1-2-HAM', 'MPI-ESM1-2-HR', 'MPI-ESM1-2-LR', 'MRI-ESM2-0', 'NESM3', 'NorCPM1', 'UKESM1-0-LL']\n"
     ]
    }
   ],
   "source": [
    "var_list = {\n",
    "    # \"Amon\": [\"pr\", \"tauu\", \"tauv\", \"rlds\", \"rlus\", \"rsds\", \"rsus\", \"hfls\", \"hfss\"],\n",
    "    \"Amon\": [\"pr\", \"uas\", \"vas\"],\n",
    "    \"Omon\": [\"tos\", \"zos\"]\n",
    "    # \"Omon\": [\"tos\", \"thetao\", \"vo\", \"uo\", \"wo\"],\n",
    "    # \"fx\": [\"sftlf\"]\n",
    "}\n",
    "flat_var_list = np.concatenate(list(var_list.values())).tolist()\n",
    "# [\"pr\", \"ts\", \"uo\", \"vo\", \"wo\", \"hfls\", \"hfss\", \"sftlf\"]\n",
    "\n",
    "ignore_models = set([\"AWI-CM-1-1-MR\"])\n",
    "\n",
    "# common_query = dict(activity_id=\"CMIP\", experiment_id=\"historical\")\n",
    "common_query = \"(activity_id == 'CMIP') & (experiment_id == 'historical')\"\n",
    "\n",
    "var_models = []\n",
    "\n",
    "for _k, _v in var_list.items():\n",
    "    for _var in _v:\n",
    "        var_models.append(\n",
    "            set(\n",
    "                # fmt: off\n",
    "                col.query(\n",
    "                    f\"{common_query} & \"\n",
    "                    \"(variable_id == @_var) & \"\n",
    "                    \"(table_id == @_k)\"\n",
    "                )[\"source_id\"].unique()\n",
    "                # fmt: on\n",
    "                # col.search(**common_query, variable_id=_var, table_id=_k)\n",
    "                # .df[\"source_id\"]\n",
    "                # .unique()\n",
    "            )\n",
    "        )\n",
    "\n",
    "models_list = list(\n",
    "    var_models[0].intersection(*var_models[1:]).difference(ignore_models)\n",
    ")\n",
    "models_list.sort()\n",
    "print(\n",
    "    f\"Found {len(models_list)} models with {var_list} monthly variables available\\n\\n{models_list}\"\n",
    ")"
   ]
  },
  {
   "cell_type": "code",
   "execution_count": 9,
   "id": "3c481902-86fb-4ee1-8924-ff6333117983",
   "metadata": {
    "editable": true,
    "execution": {
     "iopub.execute_input": "2024-12-12T18:36:36.050133Z",
     "iopub.status.busy": "2024-12-12T18:36:36.049239Z",
     "iopub.status.idle": "2024-12-12T18:36:36.056877Z",
     "shell.execute_reply": "2024-12-12T18:36:36.056428Z"
    },
    "papermill": {
     "duration": 0.02256,
     "end_time": "2024-12-12T18:36:36.058125",
     "exception": false,
     "start_time": "2024-12-12T18:36:36.035565",
     "status": "completed"
    },
    "slideshow": {
     "slide_type": ""
    },
    "tags": []
   },
   "outputs": [
    {
     "name": "stdout",
     "output_type": "stream",
     "text": [
      "8\n"
     ]
    },
    {
     "data": {
      "text/plain": [
       "['IPSL-CM6A-LR', 'MIROC-ES2L', 'MIROC6', 'MPI-ESM-1-2-HAM', 'MPI-ESM1-2-HR']"
      ]
     },
     "execution_count": 9,
     "metadata": {},
     "output_type": "execute_result"
    }
   ],
   "source": [
    "nelem = 5\n",
    "models_seq = [models_list[i * nelem : (i + 1) * nelem] for i in range(8)]\n",
    "print(len(models_seq))\n",
    "models_list = models_seq[n]\n",
    "models_list"
   ]
  },
  {
   "cell_type": "code",
   "execution_count": 10,
   "id": "c604fed1-e6e9-4ab6-badd-cfdaa639260b",
   "metadata": {
    "execution": {
     "iopub.execute_input": "2024-12-12T18:36:36.097406Z",
     "iopub.status.busy": "2024-12-12T18:36:36.097161Z",
     "iopub.status.idle": "2024-12-12T19:37:26.983880Z",
     "shell.execute_reply": "2024-12-12T19:37:26.974027Z"
    },
    "papermill": {
     "duration": 3650.925203,
     "end_time": "2024-12-12T19:37:27.001429",
     "exception": false,
     "start_time": "2024-12-12T18:36:36.076226",
     "status": "completed"
    },
    "tags": []
   },
   "outputs": [
    {
     "name": "stdout",
     "output_type": "stream",
     "text": [
      "Doing model: IPSL-CM6A-LR\n"
     ]
    },
    {
     "name": "stdout",
     "output_type": "stream",
     "text": [
      "\t- Doing r1i1p1f1\n"
     ]
    },
    {
     "name": "stdout",
     "output_type": "stream",
     "text": [
      "\t- Doing r2i1p1f1\n"
     ]
    },
    {
     "name": "stdout",
     "output_type": "stream",
     "text": [
      "\t- Doing r3i1p1f1\n"
     ]
    },
    {
     "name": "stdout",
     "output_type": "stream",
     "text": [
      "Doing model: MIROC-ES2L\n"
     ]
    },
    {
     "name": "stdout",
     "output_type": "stream",
     "text": [
      "\t- Doing r1i1p1f2\n"
     ]
    },
    {
     "name": "stdout",
     "output_type": "stream",
     "text": [
      "\t- Doing r2i1p1f2\n"
     ]
    },
    {
     "name": "stdout",
     "output_type": "stream",
     "text": [
      "\t- Doing r3i1p1f2\n"
     ]
    },
    {
     "name": "stdout",
     "output_type": "stream",
     "text": [
      "Doing model: MIROC6\n"
     ]
    },
    {
     "name": "stdout",
     "output_type": "stream",
     "text": [
      "\t- Doing r1i1p1f1\n"
     ]
    },
    {
     "name": "stdout",
     "output_type": "stream",
     "text": [
      "\t- Doing r2i1p1f1\n"
     ]
    },
    {
     "name": "stdout",
     "output_type": "stream",
     "text": [
      "\t- Doing r3i1p1f1\n"
     ]
    },
    {
     "name": "stdout",
     "output_type": "stream",
     "text": [
      "Doing model: MPI-ESM-1-2-HAM\n"
     ]
    },
    {
     "name": "stdout",
     "output_type": "stream",
     "text": [
      "\t- Doing r1i1p1f1\n"
     ]
    },
    {
     "name": "stdout",
     "output_type": "stream",
     "text": [
      "\t- Doing r2i1p1f1\n"
     ]
    },
    {
     "name": "stdout",
     "output_type": "stream",
     "text": [
      "\t- Doing r3i1p1f1\n"
     ]
    },
    {
     "name": "stdout",
     "output_type": "stream",
     "text": [
      "Doing model: MPI-ESM1-2-HR\n"
     ]
    },
    {
     "name": "stdout",
     "output_type": "stream",
     "text": [
      "\t- Doing r1i1p1f1\n"
     ]
    },
    {
     "name": "stdout",
     "output_type": "stream",
     "text": [
      "\t- Doing r2i1p1f1\n"
     ]
    },
    {
     "name": "stdout",
     "output_type": "stream",
     "text": [
      "\t- Doing r3i1p1f1\n"
     ]
    }
   ],
   "source": [
    "target_depth_levels = np.arange(0, 350, 5)\n",
    "grid_loc = dict(tos=\"center\", thetao=\"center\", vo=\"left\", wo=\"left\", uo=\"left\")\n",
    "\n",
    "model_container = {}\n",
    "zlabels = [\"lev\", \"level\", \"olevel\", \"deptht\", \"depthv\", \"depthu\", \"depthw\"]\n",
    "for model_name in models_list:\n",
    "    print(f\"Doing model: {model_name}\")\n",
    "    # model_query = col.search(\n",
    "    #     **common_query,\n",
    "    #     variable_id=flat_var_list,\n",
    "    #     source_id=model_name,\n",
    "    #     table_id=list(var_list.keys()),\n",
    "    # )\n",
    "    model_query = col.query(\n",
    "        f\"{common_query} & \"\n",
    "        \"(variable_id in @flat_var_list) & \"\n",
    "        \"(source_id == @model_name) & \"\n",
    "        \"(table_id in @var_list.keys())\"\n",
    "    )\n",
    "\n",
    "    # member_list = natsorted(\n",
    "    #     model_query.member_id.unique(),\n",
    "    #     key=lambda x: sum(map(int, re.split(\"[ripf]\", x)[1:])),\n",
    "    # )\n",
    "    # model_query = model_query.search(member_id=member_list)\n",
    "    # model_query = model_query.query(\"member_id in @member_list\")\n",
    "    # if model_query.grid_label.unique().size > 1:\n",
    "    #     print(model_name)\n",
    "    # grid_labels = model_query.grid_label.unique()\n",
    "    # if grid_labels.size > 2:\n",
    "    #     break\n",
    "    member_groups = (\n",
    "        model_query.groupby([\"member_id\", \"variable_id\"]).first().reset_index()\n",
    "    )[model_query.columns]\n",
    "\n",
    "    member_mask = member_groups.groupby(\"member_id\").variable_id.count() == len(\n",
    "        flat_var_list\n",
    "    )\n",
    "    member_mask = member_mask[member_mask].index.values\n",
    "\n",
    "    if member_mask.size == 0:\n",
    "        continue\n",
    "\n",
    "    member_mask = natsorted(\n",
    "        member_mask,\n",
    "        key=lambda x: sum(map(int, re.split(\"[ripf]\", x)[1:])),\n",
    "    )[:3]\n",
    "    member_groups = member_groups.query(\"member_id in @member_mask\")\n",
    "\n",
    "    model_container[model_name] = []\n",
    "    for _member in member_mask:\n",
    "        print(f\"\\t- Doing {_member}\")\n",
    "        _sel_member = member_groups.query(\"member_id == @_member\").sort_values(\n",
    "            \"variable_id\", ascending=False\n",
    "        )\n",
    "        _member_ds = []\n",
    "        _prev_lev = None\n",
    "        for _zstore in _sel_member.zstore.values:\n",
    "            _var_data = xr.open_zarr(fsspec.get_mapper(_zstore), consolidated=True)\n",
    "            try:\n",
    "                _var_data = _var_data.rename(latitude=\"lat\", longitude=\"lon\")\n",
    "            except Exception as e:\n",
    "                pass\n",
    "            try:\n",
    "                for _zlabel in zlabels:\n",
    "                    zcoord = _var_data.get(_zlabel, None)\n",
    "                    if zcoord is not None:\n",
    "                        zcoord = _zlabel\n",
    "                        break\n",
    "                units = _var_data[zcoord].attrs.get(\"units\", None)\n",
    "                if units in [\"centimeters\", \"cm\"]:\n",
    "                    _var_data[zcoord] = _var_data[zcoord] / 1e3\n",
    "                if _var_data[zcoord].isnull().sum() == 0:\n",
    "                    _prev_lev = _var_data[zcoord]\n",
    "                if _prev_lev is not None and _var_data[zcoord].isnull().sum() > 0:\n",
    "                    _var_data[zcoord] = _prev_lev.data\n",
    "                _var_data = _var_data.sel(**{zcoord: slice(None, 500)})\n",
    "                _var_name = _zstore.split(\"/\")[-4]\n",
    "                grid = Grid(\n",
    "                    _var_data,\n",
    "                    coords={\n",
    "                        \"Z\": {grid_loc[_var_name]: zcoord},\n",
    "                    },\n",
    "                    periodic=False,\n",
    "                )\n",
    "                _var_data = grid.transform(\n",
    "                    _var_data[_var_name],\n",
    "                    \"Z\",\n",
    "                    target_depth_levels,\n",
    "                    target_data=None,\n",
    "                    method=\"linear\",\n",
    "                ).rename({zcoord: \"lev\"})\n",
    "                _var_data.name = _var_name\n",
    "                _var_data = _var_data.to_dataset()\n",
    "            except Exception as e:\n",
    "                # print(e)\n",
    "                pass\n",
    "            # try:\n",
    "            #     _var_data[\"olevel\"] = abs(_var_data.olevel)\n",
    "            #     _var_data = _var_data.sortby(\"olevel\").sel(olevel=slice(None, 300))\n",
    "            # except:\n",
    "            #     pass\n",
    "            regridder = xe.Regridder(\n",
    "                _var_data.isel(time=0, drop=True),\n",
    "                target_rect_grid,\n",
    "                \"bilinear\",\n",
    "                periodic=True,\n",
    "                ignore_degenerate=True,\n",
    "            )\n",
    "            _var_data = regridder(_var_data)\n",
    "            _var_data = _var_data.convert_calendar(\"standard\", align_on=\"date\")\n",
    "            _var_data[\"time\"] = (\n",
    "                _var_data.indexes[\"time\"]\n",
    "                .to_series()\n",
    "                .apply(\n",
    "                    lambda x: x.replace(\n",
    "                        day=15, hour=0, minute=0, second=0, microsecond=0\n",
    "                    )\n",
    "                )\n",
    "            )\n",
    "            _member_ds.append(_var_data)\n",
    "        _member_ds = xr.combine_by_coords(_member_ds, compat=\"override\")[flat_var_list]\n",
    "        _member_ds[\"y\"] = _member_ds.lat[:, 0].data\n",
    "        _member_ds[\"x\"] = _member_ds.lon[0, :].data\n",
    "        _member_ds = _member_ds.drop_vars([\"lat\", \"lon\"]).rename(y=\"lat\", x=\"lon\")\n",
    "        _member_ds.to_netcdf(\n",
    "            f\"/glade/derecho/scratch/griverat/ics_CMIP6/{model_name}.{_member}.nc\"\n",
    "        )\n",
    "        model_container[model_name].append(_member)"
   ]
  },
  {
   "cell_type": "code",
   "execution_count": 11,
   "id": "c7ce81a1-651b-4d94-b6f8-b90517fa9498",
   "metadata": {
    "execution": {
     "iopub.execute_input": "2024-12-12T19:37:27.075559Z",
     "iopub.status.busy": "2024-12-12T19:37:27.046637Z",
     "iopub.status.idle": "2024-12-12T19:37:27.120850Z",
     "shell.execute_reply": "2024-12-12T19:37:27.120072Z"
    },
    "papermill": {
     "duration": 0.109921,
     "end_time": "2024-12-12T19:37:27.126401",
     "exception": false,
     "start_time": "2024-12-12T19:37:27.016480",
     "status": "completed"
    },
    "tags": []
   },
   "outputs": [
    {
     "data": {
      "text/plain": [
       "{'IPSL-CM6A-LR': ['r1i1p1f1', 'r2i1p1f1', 'r3i1p1f1'],\n",
       " 'MIROC-ES2L': ['r1i1p1f2', 'r2i1p1f2', 'r3i1p1f2'],\n",
       " 'MIROC6': ['r1i1p1f1', 'r2i1p1f1', 'r3i1p1f1'],\n",
       " 'MPI-ESM-1-2-HAM': ['r1i1p1f1', 'r2i1p1f1', 'r3i1p1f1'],\n",
       " 'MPI-ESM1-2-HR': ['r1i1p1f1', 'r2i1p1f1', 'r3i1p1f1']}"
      ]
     },
     "execution_count": 11,
     "metadata": {},
     "output_type": "execute_result"
    }
   ],
   "source": [
    "model_container"
   ]
  }
 ],
 "metadata": {
  "kernelspec": {
   "display_name": "Python [conda env:keras]",
   "language": "python",
   "name": "conda-env-keras-py"
  },
  "language_info": {
   "codemirror_mode": {
    "name": "ipython",
    "version": 3
   },
   "file_extension": ".py",
   "mimetype": "text/x-python",
   "name": "python",
   "nbconvert_exporter": "python",
   "pygments_lexer": "ipython3",
   "version": "3.10.13"
  },
  "papermill": {
   "default_parameters": {},
   "duration": 3696.092138,
   "end_time": "2024-12-12T19:37:30.096475",
   "environment_variables": {},
   "exception": null,
   "input_path": "get_data.ipynb",
   "output_path": "output/get_data_6.ipynb",
   "parameters": {
    "n": 6
   },
   "start_time": "2024-12-12T18:35:54.004337",
   "version": "2.6.0"
  }
 },
 "nbformat": 4,
 "nbformat_minor": 5
}