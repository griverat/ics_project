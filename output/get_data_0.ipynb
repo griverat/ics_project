{
 "cells": [
  {
   "cell_type": "markdown",
   "id": "ef761d80",
   "metadata": {
    "tags": [
     "papermill-error-cell-tag"
    ]
   },
   "source": [
    "<span style=\"color:red; font-family:Helvetica Neue, Helvetica, Arial, sans-serif; font-size:2em;\">An Exception was encountered at '<a href=\"#papermill-error-cell\">In [10]</a>'.</span>"
   ]
  },
  {
   "cell_type": "code",
   "execution_count": 1,
   "id": "a04f87d1-35f7-4fb5-97a2-7e490b35a4e6",
   "metadata": {
    "execution": {
     "iopub.execute_input": "2024-12-12T18:35:57.326245Z",
     "iopub.status.busy": "2024-12-12T18:35:57.326012Z",
     "iopub.status.idle": "2024-12-12T18:36:28.466357Z",
     "shell.execute_reply": "2024-12-12T18:36:28.465773Z"
    },
    "papermill": {
     "duration": 31.148388,
     "end_time": "2024-12-12T18:36:28.467789",
     "exception": false,
     "start_time": "2024-12-12T18:35:57.319401",
     "status": "completed"
    },
    "tags": []
   },
   "outputs": [
    {
     "data": {
      "text/plain": [
       "<xarray.core.options.set_options at 0x15433d6b0070>"
      ]
     },
     "execution_count": 1,
     "metadata": {},
     "output_type": "execute_result"
    }
   ],
   "source": [
    "import json\n",
    "import os\n",
    "import re\n",
    "import warnings\n",
    "\n",
    "import fsspec\n",
    "import intake\n",
    "import numpy as np\n",
    "import pandas as pd\n",
    "import xarray as xr\n",
    "import xesmf as xe\n",
    "from dmelon.utils import check_folder\n",
    "from matplotlib import pyplot as plt\n",
    "from natsort import natsorted\n",
    "from xgcm import Grid\n",
    "from xmip.preprocessing import combined_preprocessing, replace_x_y_nominal_lat_lon\n",
    "\n",
    "warnings.filterwarnings(\"ignore\")\n",
    "xr.set_options(keep_attrs=True)"
   ]
  },
  {
   "cell_type": "code",
   "execution_count": 2,
   "id": "6fc66254-a325-4c37-ac38-b53a870dd2d9",
   "metadata": {
    "execution": {
     "iopub.execute_input": "2024-12-12T18:36:28.480841Z",
     "iopub.status.busy": "2024-12-12T18:36:28.479589Z",
     "iopub.status.idle": "2024-12-12T18:36:28.485576Z",
     "shell.execute_reply": "2024-12-12T18:36:28.485065Z"
    },
    "papermill": {
     "duration": 0.010585,
     "end_time": "2024-12-12T18:36:28.486901",
     "exception": false,
     "start_time": "2024-12-12T18:36:28.476316",
     "status": "completed"
    },
    "tags": []
   },
   "outputs": [],
   "source": [
    "# ROOT_DIR = \"/glade/work/griverat/DL-ECindex/\"\n",
    "# TARGET_RES = \"24x72\"\n",
    "# VARIABLE = \"tos\"\n",
    "# OUT_NAME_VAR = \"sst\"\n",
    "\n",
    "# OUT_PATH = os.path.join(ROOT_DIR, f\"DATA-Model/EC_model/CMIP6_gcp/\", VARIABLE)\n",
    "# TARGET_GRID_PATH = os.path.join(\n",
    "#     ROOT_DIR, f\"DATA-Model/EC_model/model.target.grid.{TARGET_RES}.nc\"\n",
    "# )\n",
    "\n",
    "# check_folder(OUT_PATH)"
   ]
  },
  {
   "cell_type": "code",
   "execution_count": 3,
   "id": "5df6ef40-e250-4474-b681-72a408719ffe",
   "metadata": {
    "editable": true,
    "execution": {
     "iopub.execute_input": "2024-12-12T18:36:28.510032Z",
     "iopub.status.busy": "2024-12-12T18:36:28.509048Z",
     "iopub.status.idle": "2024-12-12T18:36:28.514334Z",
     "shell.execute_reply": "2024-12-12T18:36:28.513831Z"
    },
    "papermill": {
     "duration": 0.021781,
     "end_time": "2024-12-12T18:36:28.515469",
     "exception": false,
     "start_time": "2024-12-12T18:36:28.493688",
     "status": "completed"
    },
    "slideshow": {
     "slide_type": ""
    },
    "tags": [
     "parameters"
    ]
   },
   "outputs": [],
   "source": [
    "# parameters\n",
    "n = 0"
   ]
  },
  {
   "cell_type": "code",
   "execution_count": 4,
   "id": "6ae91885",
   "metadata": {
    "execution": {
     "iopub.execute_input": "2024-12-12T18:36:28.522321Z",
     "iopub.status.busy": "2024-12-12T18:36:28.521907Z",
     "iopub.status.idle": "2024-12-12T18:36:28.526685Z",
     "shell.execute_reply": "2024-12-12T18:36:28.525768Z"
    },
    "papermill": {
     "duration": 0.015405,
     "end_time": "2024-12-12T18:36:28.533904",
     "exception": false,
     "start_time": "2024-12-12T18:36:28.518499",
     "status": "completed"
    },
    "tags": [
     "injected-parameters"
    ]
   },
   "outputs": [],
   "source": [
    "# Parameters\n",
    "n = 0\n"
   ]
  },
  {
   "cell_type": "code",
   "execution_count": 5,
   "id": "5400eb3b-dfde-4258-bea5-1562000137d3",
   "metadata": {
    "execution": {
     "iopub.execute_input": "2024-12-12T18:36:28.562476Z",
     "iopub.status.busy": "2024-12-12T18:36:28.562258Z",
     "iopub.status.idle": "2024-12-12T18:36:33.364651Z",
     "shell.execute_reply": "2024-12-12T18:36:33.364067Z"
    },
    "papermill": {
     "duration": 4.813882,
     "end_time": "2024-12-12T18:36:33.366192",
     "exception": false,
     "start_time": "2024-12-12T18:36:28.552310",
     "status": "completed"
    },
    "tags": []
   },
   "outputs": [
    {
     "data": {
      "text/html": [
       "<div>\n",
       "<style scoped>\n",
       "    .dataframe tbody tr th:only-of-type {\n",
       "        vertical-align: middle;\n",
       "    }\n",
       "\n",
       "    .dataframe tbody tr th {\n",
       "        vertical-align: top;\n",
       "    }\n",
       "\n",
       "    .dataframe thead th {\n",
       "        text-align: right;\n",
       "    }\n",
       "</style>\n",
       "<table border=\"1\" class=\"dataframe\">\n",
       "  <thead>\n",
       "    <tr style=\"text-align: right;\">\n",
       "      <th></th>\n",
       "      <th>activity_id</th>\n",
       "      <th>institution_id</th>\n",
       "      <th>source_id</th>\n",
       "      <th>experiment_id</th>\n",
       "      <th>member_id</th>\n",
       "      <th>table_id</th>\n",
       "      <th>variable_id</th>\n",
       "      <th>grid_label</th>\n",
       "      <th>zstore</th>\n",
       "      <th>dcpp_init_year</th>\n",
       "      <th>version</th>\n",
       "    </tr>\n",
       "  </thead>\n",
       "  <tbody>\n",
       "    <tr>\n",
       "      <th>0</th>\n",
       "      <td>HighResMIP</td>\n",
       "      <td>CMCC</td>\n",
       "      <td>CMCC-CM2-HR4</td>\n",
       "      <td>highresSST-present</td>\n",
       "      <td>r1i1p1f1</td>\n",
       "      <td>Amon</td>\n",
       "      <td>ps</td>\n",
       "      <td>gn</td>\n",
       "      <td>gs://cmip6/CMIP6/HighResMIP/CMCC/CMCC-CM2-HR4/...</td>\n",
       "      <td>NaN</td>\n",
       "      <td>20170706</td>\n",
       "    </tr>\n",
       "    <tr>\n",
       "      <th>1</th>\n",
       "      <td>HighResMIP</td>\n",
       "      <td>CMCC</td>\n",
       "      <td>CMCC-CM2-HR4</td>\n",
       "      <td>highresSST-present</td>\n",
       "      <td>r1i1p1f1</td>\n",
       "      <td>Amon</td>\n",
       "      <td>rsds</td>\n",
       "      <td>gn</td>\n",
       "      <td>gs://cmip6/CMIP6/HighResMIP/CMCC/CMCC-CM2-HR4/...</td>\n",
       "      <td>NaN</td>\n",
       "      <td>20170706</td>\n",
       "    </tr>\n",
       "    <tr>\n",
       "      <th>2</th>\n",
       "      <td>HighResMIP</td>\n",
       "      <td>CMCC</td>\n",
       "      <td>CMCC-CM2-HR4</td>\n",
       "      <td>highresSST-present</td>\n",
       "      <td>r1i1p1f1</td>\n",
       "      <td>Amon</td>\n",
       "      <td>rlus</td>\n",
       "      <td>gn</td>\n",
       "      <td>gs://cmip6/CMIP6/HighResMIP/CMCC/CMCC-CM2-HR4/...</td>\n",
       "      <td>NaN</td>\n",
       "      <td>20170706</td>\n",
       "    </tr>\n",
       "    <tr>\n",
       "      <th>3</th>\n",
       "      <td>HighResMIP</td>\n",
       "      <td>CMCC</td>\n",
       "      <td>CMCC-CM2-HR4</td>\n",
       "      <td>highresSST-present</td>\n",
       "      <td>r1i1p1f1</td>\n",
       "      <td>Amon</td>\n",
       "      <td>rlds</td>\n",
       "      <td>gn</td>\n",
       "      <td>gs://cmip6/CMIP6/HighResMIP/CMCC/CMCC-CM2-HR4/...</td>\n",
       "      <td>NaN</td>\n",
       "      <td>20170706</td>\n",
       "    </tr>\n",
       "    <tr>\n",
       "      <th>4</th>\n",
       "      <td>HighResMIP</td>\n",
       "      <td>CMCC</td>\n",
       "      <td>CMCC-CM2-HR4</td>\n",
       "      <td>highresSST-present</td>\n",
       "      <td>r1i1p1f1</td>\n",
       "      <td>Amon</td>\n",
       "      <td>psl</td>\n",
       "      <td>gn</td>\n",
       "      <td>gs://cmip6/CMIP6/HighResMIP/CMCC/CMCC-CM2-HR4/...</td>\n",
       "      <td>NaN</td>\n",
       "      <td>20170706</td>\n",
       "    </tr>\n",
       "  </tbody>\n",
       "</table>\n",
       "</div>"
      ],
      "text/plain": [
       "  activity_id institution_id     source_id       experiment_id member_id  \\\n",
       "0  HighResMIP           CMCC  CMCC-CM2-HR4  highresSST-present  r1i1p1f1   \n",
       "1  HighResMIP           CMCC  CMCC-CM2-HR4  highresSST-present  r1i1p1f1   \n",
       "2  HighResMIP           CMCC  CMCC-CM2-HR4  highresSST-present  r1i1p1f1   \n",
       "3  HighResMIP           CMCC  CMCC-CM2-HR4  highresSST-present  r1i1p1f1   \n",
       "4  HighResMIP           CMCC  CMCC-CM2-HR4  highresSST-present  r1i1p1f1   \n",
       "\n",
       "  table_id variable_id grid_label  \\\n",
       "0     Amon          ps         gn   \n",
       "1     Amon        rsds         gn   \n",
       "2     Amon        rlus         gn   \n",
       "3     Amon        rlds         gn   \n",
       "4     Amon         psl         gn   \n",
       "\n",
       "                                              zstore  dcpp_init_year   version  \n",
       "0  gs://cmip6/CMIP6/HighResMIP/CMCC/CMCC-CM2-HR4/...             NaN  20170706  \n",
       "1  gs://cmip6/CMIP6/HighResMIP/CMCC/CMCC-CM2-HR4/...             NaN  20170706  \n",
       "2  gs://cmip6/CMIP6/HighResMIP/CMCC/CMCC-CM2-HR4/...             NaN  20170706  \n",
       "3  gs://cmip6/CMIP6/HighResMIP/CMCC/CMCC-CM2-HR4/...             NaN  20170706  \n",
       "4  gs://cmip6/CMIP6/HighResMIP/CMCC/CMCC-CM2-HR4/...             NaN  20170706  "
      ]
     },
     "execution_count": 5,
     "metadata": {},
     "output_type": "execute_result"
    }
   ],
   "source": [
    "# url = \"https://storage.googleapis.com/cmip6/pangeo-cmip6-noQC.json\"\n",
    "# url = \"/glade/collections/cmip/catalog/intake-esm-datastore/catalogs/glade-cmip6.json\"\n",
    "# col = intake.open_esm_datastore(url)\n",
    "\n",
    "col = pd.read_csv(\n",
    "    \"https://storage.googleapis.com/cmip6/cmip6-zarr-consolidated-stores.csv\"\n",
    ")\n",
    "col.head()"
   ]
  },
  {
   "cell_type": "markdown",
   "id": "37e9b678-070e-473d-9ca9-ab79f7602cbb",
   "metadata": {
    "papermill": {
     "duration": 0.005869,
     "end_time": "2024-12-12T18:36:33.376260",
     "exception": false,
     "start_time": "2024-12-12T18:36:33.370391",
     "status": "completed"
    },
    "tags": []
   },
   "source": [
    "We need to regrid the incoming CMIP6 data to a rectilinear grid first. This way we can later regrid again using a conservative method that works better between rectilinear grids."
   ]
  },
  {
   "cell_type": "code",
   "execution_count": 6,
   "id": "dd0b13f6-80e4-4550-a871-8b72d10c64e3",
   "metadata": {
    "execution": {
     "iopub.execute_input": "2024-12-12T18:36:33.393695Z",
     "iopub.status.busy": "2024-12-12T18:36:33.393453Z",
     "iopub.status.idle": "2024-12-12T18:36:33.436628Z",
     "shell.execute_reply": "2024-12-12T18:36:33.436051Z"
    },
    "papermill": {
     "duration": 0.05515,
     "end_time": "2024-12-12T18:36:33.438188",
     "exception": false,
     "start_time": "2024-12-12T18:36:33.383038",
     "status": "completed"
    },
    "tags": []
   },
   "outputs": [
    {
     "data": {
      "text/html": [
       "<div><svg style=\"position: absolute; width: 0; height: 0; overflow: hidden\">\n",
       "<defs>\n",
       "<symbol id=\"icon-database\" viewBox=\"0 0 32 32\">\n",
       "<path d=\"M16 0c-8.837 0-16 2.239-16 5v4c0 2.761 7.163 5 16 5s16-2.239 16-5v-4c0-2.761-7.163-5-16-5z\"></path>\n",
       "<path d=\"M16 17c-8.837 0-16-2.239-16-5v6c0 2.761 7.163 5 16 5s16-2.239 16-5v-6c0 2.761-7.163 5-16 5z\"></path>\n",
       "<path d=\"M16 26c-8.837 0-16-2.239-16-5v6c0 2.761 7.163 5 16 5s16-2.239 16-5v-6c0 2.761-7.163 5-16 5z\"></path>\n",
       "</symbol>\n",
       "<symbol id=\"icon-file-text2\" viewBox=\"0 0 32 32\">\n",
       "<path d=\"M28.681 7.159c-0.694-0.947-1.662-2.053-2.724-3.116s-2.169-2.030-3.116-2.724c-1.612-1.182-2.393-1.319-2.841-1.319h-15.5c-1.378 0-2.5 1.121-2.5 2.5v27c0 1.378 1.122 2.5 2.5 2.5h23c1.378 0 2.5-1.122 2.5-2.5v-19.5c0-0.448-0.137-1.23-1.319-2.841zM24.543 5.457c0.959 0.959 1.712 1.825 2.268 2.543h-4.811v-4.811c0.718 0.556 1.584 1.309 2.543 2.268zM28 29.5c0 0.271-0.229 0.5-0.5 0.5h-23c-0.271 0-0.5-0.229-0.5-0.5v-27c0-0.271 0.229-0.5 0.5-0.5 0 0 15.499-0 15.5 0v7c0 0.552 0.448 1 1 1h7v19.5z\"></path>\n",
       "<path d=\"M23 26h-14c-0.552 0-1-0.448-1-1s0.448-1 1-1h14c0.552 0 1 0.448 1 1s-0.448 1-1 1z\"></path>\n",
       "<path d=\"M23 22h-14c-0.552 0-1-0.448-1-1s0.448-1 1-1h14c0.552 0 1 0.448 1 1s-0.448 1-1 1z\"></path>\n",
       "<path d=\"M23 18h-14c-0.552 0-1-0.448-1-1s0.448-1 1-1h14c0.552 0 1 0.448 1 1s-0.448 1-1 1z\"></path>\n",
       "</symbol>\n",
       "</defs>\n",
       "</svg>\n",
       "<style>/* CSS stylesheet for displaying xarray objects in jupyterlab.\n",
       " *\n",
       " */\n",
       "\n",
       ":root {\n",
       "  --xr-font-color0: var(--jp-content-font-color0, rgba(0, 0, 0, 1));\n",
       "  --xr-font-color2: var(--jp-content-font-color2, rgba(0, 0, 0, 0.54));\n",
       "  --xr-font-color3: var(--jp-content-font-color3, rgba(0, 0, 0, 0.38));\n",
       "  --xr-border-color: var(--jp-border-color2, #e0e0e0);\n",
       "  --xr-disabled-color: var(--jp-layout-color3, #bdbdbd);\n",
       "  --xr-background-color: var(--jp-layout-color0, white);\n",
       "  --xr-background-color-row-even: var(--jp-layout-color1, white);\n",
       "  --xr-background-color-row-odd: var(--jp-layout-color2, #eeeeee);\n",
       "}\n",
       "\n",
       "html[theme=dark],\n",
       "body[data-theme=dark],\n",
       "body.vscode-dark {\n",
       "  --xr-font-color0: rgba(255, 255, 255, 1);\n",
       "  --xr-font-color2: rgba(255, 255, 255, 0.54);\n",
       "  --xr-font-color3: rgba(255, 255, 255, 0.38);\n",
       "  --xr-border-color: #1F1F1F;\n",
       "  --xr-disabled-color: #515151;\n",
       "  --xr-background-color: #111111;\n",
       "  --xr-background-color-row-even: #111111;\n",
       "  --xr-background-color-row-odd: #313131;\n",
       "}\n",
       "\n",
       ".xr-wrap {\n",
       "  display: block !important;\n",
       "  min-width: 300px;\n",
       "  max-width: 700px;\n",
       "}\n",
       "\n",
       ".xr-text-repr-fallback {\n",
       "  /* fallback to plain text repr when CSS is not injected (untrusted notebook) */\n",
       "  display: none;\n",
       "}\n",
       "\n",
       ".xr-header {\n",
       "  padding-top: 6px;\n",
       "  padding-bottom: 6px;\n",
       "  margin-bottom: 4px;\n",
       "  border-bottom: solid 1px var(--xr-border-color);\n",
       "}\n",
       "\n",
       ".xr-header > div,\n",
       ".xr-header > ul {\n",
       "  display: inline;\n",
       "  margin-top: 0;\n",
       "  margin-bottom: 0;\n",
       "}\n",
       "\n",
       ".xr-obj-type,\n",
       ".xr-array-name {\n",
       "  margin-left: 2px;\n",
       "  margin-right: 10px;\n",
       "}\n",
       "\n",
       ".xr-obj-type {\n",
       "  color: var(--xr-font-color2);\n",
       "}\n",
       "\n",
       ".xr-sections {\n",
       "  padding-left: 0 !important;\n",
       "  display: grid;\n",
       "  grid-template-columns: 150px auto auto 1fr 20px 20px;\n",
       "}\n",
       "\n",
       ".xr-section-item {\n",
       "  display: contents;\n",
       "}\n",
       "\n",
       ".xr-section-item input {\n",
       "  display: none;\n",
       "}\n",
       "\n",
       ".xr-section-item input + label {\n",
       "  color: var(--xr-disabled-color);\n",
       "}\n",
       "\n",
       ".xr-section-item input:enabled + label {\n",
       "  cursor: pointer;\n",
       "  color: var(--xr-font-color2);\n",
       "}\n",
       "\n",
       ".xr-section-item input:enabled + label:hover {\n",
       "  color: var(--xr-font-color0);\n",
       "}\n",
       "\n",
       ".xr-section-summary {\n",
       "  grid-column: 1;\n",
       "  color: var(--xr-font-color2);\n",
       "  font-weight: 500;\n",
       "}\n",
       "\n",
       ".xr-section-summary > span {\n",
       "  display: inline-block;\n",
       "  padding-left: 0.5em;\n",
       "}\n",
       "\n",
       ".xr-section-summary-in:disabled + label {\n",
       "  color: var(--xr-font-color2);\n",
       "}\n",
       "\n",
       ".xr-section-summary-in + label:before {\n",
       "  display: inline-block;\n",
       "  content: '►';\n",
       "  font-size: 11px;\n",
       "  width: 15px;\n",
       "  text-align: center;\n",
       "}\n",
       "\n",
       ".xr-section-summary-in:disabled + label:before {\n",
       "  color: var(--xr-disabled-color);\n",
       "}\n",
       "\n",
       ".xr-section-summary-in:checked + label:before {\n",
       "  content: '▼';\n",
       "}\n",
       "\n",
       ".xr-section-summary-in:checked + label > span {\n",
       "  display: none;\n",
       "}\n",
       "\n",
       ".xr-section-summary,\n",
       ".xr-section-inline-details {\n",
       "  padding-top: 4px;\n",
       "  padding-bottom: 4px;\n",
       "}\n",
       "\n",
       ".xr-section-inline-details {\n",
       "  grid-column: 2 / -1;\n",
       "}\n",
       "\n",
       ".xr-section-details {\n",
       "  display: none;\n",
       "  grid-column: 1 / -1;\n",
       "  margin-bottom: 5px;\n",
       "}\n",
       "\n",
       ".xr-section-summary-in:checked ~ .xr-section-details {\n",
       "  display: contents;\n",
       "}\n",
       "\n",
       ".xr-array-wrap {\n",
       "  grid-column: 1 / -1;\n",
       "  display: grid;\n",
       "  grid-template-columns: 20px auto;\n",
       "}\n",
       "\n",
       ".xr-array-wrap > label {\n",
       "  grid-column: 1;\n",
       "  vertical-align: top;\n",
       "}\n",
       "\n",
       ".xr-preview {\n",
       "  color: var(--xr-font-color3);\n",
       "}\n",
       "\n",
       ".xr-array-preview,\n",
       ".xr-array-data {\n",
       "  padding: 0 5px !important;\n",
       "  grid-column: 2;\n",
       "}\n",
       "\n",
       ".xr-array-data,\n",
       ".xr-array-in:checked ~ .xr-array-preview {\n",
       "  display: none;\n",
       "}\n",
       "\n",
       ".xr-array-in:checked ~ .xr-array-data,\n",
       ".xr-array-preview {\n",
       "  display: inline-block;\n",
       "}\n",
       "\n",
       ".xr-dim-list {\n",
       "  display: inline-block !important;\n",
       "  list-style: none;\n",
       "  padding: 0 !important;\n",
       "  margin: 0;\n",
       "}\n",
       "\n",
       ".xr-dim-list li {\n",
       "  display: inline-block;\n",
       "  padding: 0;\n",
       "  margin: 0;\n",
       "}\n",
       "\n",
       ".xr-dim-list:before {\n",
       "  content: '(';\n",
       "}\n",
       "\n",
       ".xr-dim-list:after {\n",
       "  content: ')';\n",
       "}\n",
       "\n",
       ".xr-dim-list li:not(:last-child):after {\n",
       "  content: ',';\n",
       "  padding-right: 5px;\n",
       "}\n",
       "\n",
       ".xr-has-index {\n",
       "  font-weight: bold;\n",
       "}\n",
       "\n",
       ".xr-var-list,\n",
       ".xr-var-item {\n",
       "  display: contents;\n",
       "}\n",
       "\n",
       ".xr-var-item > div,\n",
       ".xr-var-item label,\n",
       ".xr-var-item > .xr-var-name span {\n",
       "  background-color: var(--xr-background-color-row-even);\n",
       "  margin-bottom: 0;\n",
       "}\n",
       "\n",
       ".xr-var-item > .xr-var-name:hover span {\n",
       "  padding-right: 5px;\n",
       "}\n",
       "\n",
       ".xr-var-list > li:nth-child(odd) > div,\n",
       ".xr-var-list > li:nth-child(odd) > label,\n",
       ".xr-var-list > li:nth-child(odd) > .xr-var-name span {\n",
       "  background-color: var(--xr-background-color-row-odd);\n",
       "}\n",
       "\n",
       ".xr-var-name {\n",
       "  grid-column: 1;\n",
       "}\n",
       "\n",
       ".xr-var-dims {\n",
       "  grid-column: 2;\n",
       "}\n",
       "\n",
       ".xr-var-dtype {\n",
       "  grid-column: 3;\n",
       "  text-align: right;\n",
       "  color: var(--xr-font-color2);\n",
       "}\n",
       "\n",
       ".xr-var-preview {\n",
       "  grid-column: 4;\n",
       "}\n",
       "\n",
       ".xr-index-preview {\n",
       "  grid-column: 2 / 5;\n",
       "  color: var(--xr-font-color2);\n",
       "}\n",
       "\n",
       ".xr-var-name,\n",
       ".xr-var-dims,\n",
       ".xr-var-dtype,\n",
       ".xr-preview,\n",
       ".xr-attrs dt {\n",
       "  white-space: nowrap;\n",
       "  overflow: hidden;\n",
       "  text-overflow: ellipsis;\n",
       "  padding-right: 10px;\n",
       "}\n",
       "\n",
       ".xr-var-name:hover,\n",
       ".xr-var-dims:hover,\n",
       ".xr-var-dtype:hover,\n",
       ".xr-attrs dt:hover {\n",
       "  overflow: visible;\n",
       "  width: auto;\n",
       "  z-index: 1;\n",
       "}\n",
       "\n",
       ".xr-var-attrs,\n",
       ".xr-var-data,\n",
       ".xr-index-data {\n",
       "  display: none;\n",
       "  background-color: var(--xr-background-color) !important;\n",
       "  padding-bottom: 5px !important;\n",
       "}\n",
       "\n",
       ".xr-var-attrs-in:checked ~ .xr-var-attrs,\n",
       ".xr-var-data-in:checked ~ .xr-var-data,\n",
       ".xr-index-data-in:checked ~ .xr-index-data {\n",
       "  display: block;\n",
       "}\n",
       "\n",
       ".xr-var-data > table {\n",
       "  float: right;\n",
       "}\n",
       "\n",
       ".xr-var-name span,\n",
       ".xr-var-data,\n",
       ".xr-index-name div,\n",
       ".xr-index-data,\n",
       ".xr-attrs {\n",
       "  padding-left: 25px !important;\n",
       "}\n",
       "\n",
       ".xr-attrs,\n",
       ".xr-var-attrs,\n",
       ".xr-var-data,\n",
       ".xr-index-data {\n",
       "  grid-column: 1 / -1;\n",
       "}\n",
       "\n",
       "dl.xr-attrs {\n",
       "  padding: 0;\n",
       "  margin: 0;\n",
       "  display: grid;\n",
       "  grid-template-columns: 125px auto;\n",
       "}\n",
       "\n",
       ".xr-attrs dt,\n",
       ".xr-attrs dd {\n",
       "  padding: 0;\n",
       "  margin: 0;\n",
       "  float: left;\n",
       "  padding-right: 10px;\n",
       "  width: auto;\n",
       "}\n",
       "\n",
       ".xr-attrs dt {\n",
       "  font-weight: normal;\n",
       "  grid-column: 1;\n",
       "}\n",
       "\n",
       ".xr-attrs dt:hover span {\n",
       "  display: inline-block;\n",
       "  background: var(--xr-background-color);\n",
       "  padding-right: 10px;\n",
       "}\n",
       "\n",
       ".xr-attrs dd {\n",
       "  grid-column: 2;\n",
       "  white-space: pre-wrap;\n",
       "  word-break: break-all;\n",
       "}\n",
       "\n",
       ".xr-icon-database,\n",
       ".xr-icon-file-text2,\n",
       ".xr-no-icon {\n",
       "  display: inline-block;\n",
       "  vertical-align: middle;\n",
       "  width: 1em;\n",
       "  height: 1.5em !important;\n",
       "  stroke-width: 0;\n",
       "  stroke: currentColor;\n",
       "  fill: currentColor;\n",
       "}\n",
       "</style><pre class='xr-text-repr-fallback'>&lt;xarray.Dataset&gt;\n",
       "Dimensions:  (y: 180, x: 360, y_b: 181, x_b: 361)\n",
       "Coordinates:\n",
       "    lon      (y, x) float64 0.5 1.5 2.5 3.5 4.5 ... 356.5 357.5 358.5 359.5\n",
       "    lat      (y, x) float64 -89.5 -89.5 -89.5 -89.5 ... 89.5 89.5 89.5 89.5\n",
       "    lon_b    (y_b, x_b) float64 0.0 1.0 2.0 3.0 4.0 ... 357.0 358.0 359.0 360.0\n",
       "    lat_b    (y_b, x_b) float64 -90.0 -90.0 -90.0 -90.0 ... 90.0 90.0 90.0 90.0\n",
       "Dimensions without coordinates: y, x, y_b, x_b\n",
       "Data variables:\n",
       "    *empty*</pre><div class='xr-wrap' style='display:none'><div class='xr-header'><div class='xr-obj-type'>xarray.Dataset</div></div><ul class='xr-sections'><li class='xr-section-item'><input id='section-90a92a3c-b1c4-439e-8e82-11d47f8a2abb' class='xr-section-summary-in' type='checkbox' disabled ><label for='section-90a92a3c-b1c4-439e-8e82-11d47f8a2abb' class='xr-section-summary'  title='Expand/collapse section'>Dimensions:</label><div class='xr-section-inline-details'><ul class='xr-dim-list'><li><span>y</span>: 180</li><li><span>x</span>: 360</li><li><span>y_b</span>: 181</li><li><span>x_b</span>: 361</li></ul></div><div class='xr-section-details'></div></li><li class='xr-section-item'><input id='section-685a27cb-48aa-4948-a6f5-8b25b9add99c' class='xr-section-summary-in' type='checkbox'  checked><label for='section-685a27cb-48aa-4948-a6f5-8b25b9add99c' class='xr-section-summary' >Coordinates: <span>(4)</span></label><div class='xr-section-inline-details'></div><div class='xr-section-details'><ul class='xr-var-list'><li class='xr-var-item'><div class='xr-var-name'><span>lon</span></div><div class='xr-var-dims'>(y, x)</div><div class='xr-var-dtype'>float64</div><div class='xr-var-preview xr-preview'>0.5 1.5 2.5 ... 357.5 358.5 359.5</div><input id='attrs-d8539767-7698-441e-a9f9-26438141d0c6' class='xr-var-attrs-in' type='checkbox' ><label for='attrs-d8539767-7698-441e-a9f9-26438141d0c6' title='Show/Hide attributes'><svg class='icon xr-icon-file-text2'><use xlink:href='#icon-file-text2'></use></svg></label><input id='data-a9acb5be-ea7c-4221-8191-a109efb574ff' class='xr-var-data-in' type='checkbox'><label for='data-a9acb5be-ea7c-4221-8191-a109efb574ff' title='Show/Hide data repr'><svg class='icon xr-icon-database'><use xlink:href='#icon-database'></use></svg></label><div class='xr-var-attrs'><dl class='xr-attrs'><dt><span>standard_name :</span></dt><dd>longitude</dd></dl></div><div class='xr-var-data'><pre>array([[  0.5,   1.5,   2.5, ..., 357.5, 358.5, 359.5],\n",
       "       [  0.5,   1.5,   2.5, ..., 357.5, 358.5, 359.5],\n",
       "       [  0.5,   1.5,   2.5, ..., 357.5, 358.5, 359.5],\n",
       "       ...,\n",
       "       [  0.5,   1.5,   2.5, ..., 357.5, 358.5, 359.5],\n",
       "       [  0.5,   1.5,   2.5, ..., 357.5, 358.5, 359.5],\n",
       "       [  0.5,   1.5,   2.5, ..., 357.5, 358.5, 359.5]])</pre></div></li><li class='xr-var-item'><div class='xr-var-name'><span>lat</span></div><div class='xr-var-dims'>(y, x)</div><div class='xr-var-dtype'>float64</div><div class='xr-var-preview xr-preview'>-89.5 -89.5 -89.5 ... 89.5 89.5</div><input id='attrs-c41623cf-dd1a-4883-9c66-e8ae1705b155' class='xr-var-attrs-in' type='checkbox' ><label for='attrs-c41623cf-dd1a-4883-9c66-e8ae1705b155' title='Show/Hide attributes'><svg class='icon xr-icon-file-text2'><use xlink:href='#icon-file-text2'></use></svg></label><input id='data-05e69b1a-5698-4070-951a-272e243f42ae' class='xr-var-data-in' type='checkbox'><label for='data-05e69b1a-5698-4070-951a-272e243f42ae' title='Show/Hide data repr'><svg class='icon xr-icon-database'><use xlink:href='#icon-database'></use></svg></label><div class='xr-var-attrs'><dl class='xr-attrs'><dt><span>standard_name :</span></dt><dd>latitude</dd></dl></div><div class='xr-var-data'><pre>array([[-89.5, -89.5, -89.5, ..., -89.5, -89.5, -89.5],\n",
       "       [-88.5, -88.5, -88.5, ..., -88.5, -88.5, -88.5],\n",
       "       [-87.5, -87.5, -87.5, ..., -87.5, -87.5, -87.5],\n",
       "       ...,\n",
       "       [ 87.5,  87.5,  87.5, ...,  87.5,  87.5,  87.5],\n",
       "       [ 88.5,  88.5,  88.5, ...,  88.5,  88.5,  88.5],\n",
       "       [ 89.5,  89.5,  89.5, ...,  89.5,  89.5,  89.5]])</pre></div></li><li class='xr-var-item'><div class='xr-var-name'><span>lon_b</span></div><div class='xr-var-dims'>(y_b, x_b)</div><div class='xr-var-dtype'>float64</div><div class='xr-var-preview xr-preview'>0.0 1.0 2.0 ... 358.0 359.0 360.0</div><input id='attrs-aecd4421-5998-4f2f-8b1d-089493525833' class='xr-var-attrs-in' type='checkbox' disabled><label for='attrs-aecd4421-5998-4f2f-8b1d-089493525833' title='Show/Hide attributes'><svg class='icon xr-icon-file-text2'><use xlink:href='#icon-file-text2'></use></svg></label><input id='data-5d0fcdff-23b8-423c-a021-afc1311ddaff' class='xr-var-data-in' type='checkbox'><label for='data-5d0fcdff-23b8-423c-a021-afc1311ddaff' title='Show/Hide data repr'><svg class='icon xr-icon-database'><use xlink:href='#icon-database'></use></svg></label><div class='xr-var-attrs'><dl class='xr-attrs'></dl></div><div class='xr-var-data'><pre>array([[  0.,   1.,   2., ..., 358., 359., 360.],\n",
       "       [  0.,   1.,   2., ..., 358., 359., 360.],\n",
       "       [  0.,   1.,   2., ..., 358., 359., 360.],\n",
       "       ...,\n",
       "       [  0.,   1.,   2., ..., 358., 359., 360.],\n",
       "       [  0.,   1.,   2., ..., 358., 359., 360.],\n",
       "       [  0.,   1.,   2., ..., 358., 359., 360.]])</pre></div></li><li class='xr-var-item'><div class='xr-var-name'><span>lat_b</span></div><div class='xr-var-dims'>(y_b, x_b)</div><div class='xr-var-dtype'>float64</div><div class='xr-var-preview xr-preview'>-90.0 -90.0 -90.0 ... 90.0 90.0</div><input id='attrs-6d3426fa-76be-4460-95b4-c1a37272f2b1' class='xr-var-attrs-in' type='checkbox' disabled><label for='attrs-6d3426fa-76be-4460-95b4-c1a37272f2b1' title='Show/Hide attributes'><svg class='icon xr-icon-file-text2'><use xlink:href='#icon-file-text2'></use></svg></label><input id='data-f3fdf5f3-4035-455d-8b76-29ce8772d1e8' class='xr-var-data-in' type='checkbox'><label for='data-f3fdf5f3-4035-455d-8b76-29ce8772d1e8' title='Show/Hide data repr'><svg class='icon xr-icon-database'><use xlink:href='#icon-database'></use></svg></label><div class='xr-var-attrs'><dl class='xr-attrs'></dl></div><div class='xr-var-data'><pre>array([[-90., -90., -90., ..., -90., -90., -90.],\n",
       "       [-89., -89., -89., ..., -89., -89., -89.],\n",
       "       [-88., -88., -88., ..., -88., -88., -88.],\n",
       "       ...,\n",
       "       [ 88.,  88.,  88., ...,  88.,  88.,  88.],\n",
       "       [ 89.,  89.,  89., ...,  89.,  89.,  89.],\n",
       "       [ 90.,  90.,  90., ...,  90.,  90.,  90.]])</pre></div></li></ul></div></li><li class='xr-section-item'><input id='section-64950918-5beb-49a0-be49-73f36e449fb6' class='xr-section-summary-in' type='checkbox' disabled ><label for='section-64950918-5beb-49a0-be49-73f36e449fb6' class='xr-section-summary'  title='Expand/collapse section'>Data variables: <span>(0)</span></label><div class='xr-section-inline-details'></div><div class='xr-section-details'><ul class='xr-var-list'></ul></div></li><li class='xr-section-item'><input id='section-12b81142-a20c-471e-ac6c-4e937226de17' class='xr-section-summary-in' type='checkbox' disabled ><label for='section-12b81142-a20c-471e-ac6c-4e937226de17' class='xr-section-summary'  title='Expand/collapse section'>Indexes: <span>(0)</span></label><div class='xr-section-inline-details'></div><div class='xr-section-details'><ul class='xr-var-list'></ul></div></li><li class='xr-section-item'><input id='section-4daadf40-b95c-4ec0-84d8-821bf23e00da' class='xr-section-summary-in' type='checkbox' disabled ><label for='section-4daadf40-b95c-4ec0-84d8-821bf23e00da' class='xr-section-summary'  title='Expand/collapse section'>Attributes: <span>(0)</span></label><div class='xr-section-inline-details'></div><div class='xr-section-details'><dl class='xr-attrs'></dl></div></li></ul></div></div>"
      ],
      "text/plain": [
       "<xarray.Dataset>\n",
       "Dimensions:  (y: 180, x: 360, y_b: 181, x_b: 361)\n",
       "Coordinates:\n",
       "    lon      (y, x) float64 0.5 1.5 2.5 3.5 4.5 ... 356.5 357.5 358.5 359.5\n",
       "    lat      (y, x) float64 -89.5 -89.5 -89.5 -89.5 ... 89.5 89.5 89.5 89.5\n",
       "    lon_b    (y_b, x_b) float64 0.0 1.0 2.0 3.0 4.0 ... 357.0 358.0 359.0 360.0\n",
       "    lat_b    (y_b, x_b) float64 -90.0 -90.0 -90.0 -90.0 ... 90.0 90.0 90.0 90.0\n",
       "Dimensions without coordinates: y, x, y_b, x_b\n",
       "Data variables:\n",
       "    *empty*"
      ]
     },
     "execution_count": 6,
     "metadata": {},
     "output_type": "execute_result"
    }
   ],
   "source": [
    "target_rect_grid = xe.util.grid_global(1, 1, lon1=360)\n",
    "target_rect_grid"
   ]
  },
  {
   "cell_type": "markdown",
   "id": "dc77f493-8fbb-4664-97fb-6dff314462d5",
   "metadata": {
    "papermill": {
     "duration": 0.006827,
     "end_time": "2024-12-12T18:36:33.448403",
     "exception": false,
     "start_time": "2024-12-12T18:36:33.441576",
     "status": "completed"
    },
    "tags": []
   },
   "source": [
    "Now we load the target grid that our output data will have"
   ]
  },
  {
   "cell_type": "code",
   "execution_count": 7,
   "id": "ba274d3d-a557-4d42-9e7a-f5d3ac1bc850",
   "metadata": {
    "execution": {
     "iopub.execute_input": "2024-12-12T18:36:33.469646Z",
     "iopub.status.busy": "2024-12-12T18:36:33.469395Z",
     "iopub.status.idle": "2024-12-12T18:36:33.472771Z",
     "shell.execute_reply": "2024-12-12T18:36:33.472293Z"
    },
    "papermill": {
     "duration": 0.017827,
     "end_time": "2024-12-12T18:36:33.474134",
     "exception": false,
     "start_time": "2024-12-12T18:36:33.456307",
     "status": "completed"
    },
    "tags": []
   },
   "outputs": [],
   "source": [
    "# target_grid = xr.open_dataset(TARGET_GRID_PATH)\n",
    "# target_grid"
   ]
  },
  {
   "cell_type": "markdown",
   "id": "0d2088c6-5449-4fdd-9255-8e9fdde2efc4",
   "metadata": {
    "papermill": {
     "duration": 0.010361,
     "end_time": "2024-12-12T18:36:33.498597",
     "exception": false,
     "start_time": "2024-12-12T18:36:33.488236",
     "status": "completed"
    },
    "tags": []
   },
   "source": [
    "Here we build the query to the intake catalog. We use sets here to easily find which models have all of the variables"
   ]
  },
  {
   "cell_type": "code",
   "execution_count": 8,
   "id": "7c6e84ab-4c07-4294-ab46-55e75cf78e44",
   "metadata": {
    "editable": true,
    "execution": {
     "iopub.execute_input": "2024-12-12T18:36:33.533377Z",
     "iopub.status.busy": "2024-12-12T18:36:33.533130Z",
     "iopub.status.idle": "2024-12-12T18:36:34.420737Z",
     "shell.execute_reply": "2024-12-12T18:36:34.420045Z"
    },
    "papermill": {
     "duration": 0.907083,
     "end_time": "2024-12-12T18:36:34.423195",
     "exception": false,
     "start_time": "2024-12-12T18:36:33.516112",
     "status": "completed"
    },
    "slideshow": {
     "slide_type": ""
    },
    "tags": []
   },
   "outputs": [
    {
     "name": "stdout",
     "output_type": "stream",
     "text": [
      "Found 40 models with {'Amon': ['pr', 'uas', 'vas'], 'Omon': ['tos', 'zos']} monthly variables available\n",
      "\n",
      "['ACCESS-CM2', 'ACCESS-ESM1-5', 'AWI-ESM-1-1-LR', 'BCC-CSM2-MR', 'BCC-ESM1', 'CAMS-CSM1-0', 'CAS-ESM2-0', 'CMCC-CM2-HR4', 'CMCC-CM2-SR5', 'CMCC-ESM2', 'CNRM-CM6-1', 'CNRM-CM6-1-HR', 'CNRM-ESM2-1', 'CanESM5', 'CanESM5-CanOE', 'EC-Earth3', 'EC-Earth3-AerChem', 'EC-Earth3-CC', 'EC-Earth3-Veg', 'EC-Earth3-Veg-LR', 'FGOALS-f3-L', 'GFDL-CM4', 'GFDL-ESM4', 'GISS-E2-1-G', 'GISS-E2-1-G-CC', 'GISS-E2-1-H', 'HadGEM3-GC31-LL', 'HadGEM3-GC31-MM', 'INM-CM4-8', 'INM-CM5-0', 'IPSL-CM6A-LR', 'MIROC-ES2L', 'MIROC6', 'MPI-ESM-1-2-HAM', 'MPI-ESM1-2-HR', 'MPI-ESM1-2-LR', 'MRI-ESM2-0', 'NESM3', 'NorCPM1', 'UKESM1-0-LL']\n"
     ]
    }
   ],
   "source": [
    "var_list = {\n",
    "    # \"Amon\": [\"pr\", \"tauu\", \"tauv\", \"rlds\", \"rlus\", \"rsds\", \"rsus\", \"hfls\", \"hfss\"],\n",
    "    \"Amon\": [\"pr\", \"uas\", \"vas\"],\n",
    "    \"Omon\": [\"tos\", \"zos\"]\n",
    "    # \"Omon\": [\"tos\", \"thetao\", \"vo\", \"uo\", \"wo\"],\n",
    "    # \"fx\": [\"sftlf\"]\n",
    "}\n",
    "flat_var_list = np.concatenate(list(var_list.values())).tolist()\n",
    "# [\"pr\", \"ts\", \"uo\", \"vo\", \"wo\", \"hfls\", \"hfss\", \"sftlf\"]\n",
    "\n",
    "ignore_models = set([\"AWI-CM-1-1-MR\"])\n",
    "\n",
    "# common_query = dict(activity_id=\"CMIP\", experiment_id=\"historical\")\n",
    "common_query = \"(activity_id == 'CMIP') & (experiment_id == 'historical')\"\n",
    "\n",
    "var_models = []\n",
    "\n",
    "for _k, _v in var_list.items():\n",
    "    for _var in _v:\n",
    "        var_models.append(\n",
    "            set(\n",
    "                # fmt: off\n",
    "                col.query(\n",
    "                    f\"{common_query} & \"\n",
    "                    \"(variable_id == @_var) & \"\n",
    "                    \"(table_id == @_k)\"\n",
    "                )[\"source_id\"].unique()\n",
    "                # fmt: on\n",
    "                # col.search(**common_query, variable_id=_var, table_id=_k)\n",
    "                # .df[\"source_id\"]\n",
    "                # .unique()\n",
    "            )\n",
    "        )\n",
    "\n",
    "models_list = list(\n",
    "    var_models[0].intersection(*var_models[1:]).difference(ignore_models)\n",
    ")\n",
    "models_list.sort()\n",
    "print(\n",
    "    f\"Found {len(models_list)} models with {var_list} monthly variables available\\n\\n{models_list}\"\n",
    ")"
   ]
  },
  {
   "cell_type": "code",
   "execution_count": 9,
   "id": "3c481902-86fb-4ee1-8924-ff6333117983",
   "metadata": {
    "editable": true,
    "execution": {
     "iopub.execute_input": "2024-12-12T18:36:34.439459Z",
     "iopub.status.busy": "2024-12-12T18:36:34.439238Z",
     "iopub.status.idle": "2024-12-12T18:36:34.443849Z",
     "shell.execute_reply": "2024-12-12T18:36:34.443427Z"
    },
    "papermill": {
     "duration": 0.017679,
     "end_time": "2024-12-12T18:36:34.446259",
     "exception": false,
     "start_time": "2024-12-12T18:36:34.428580",
     "status": "completed"
    },
    "slideshow": {
     "slide_type": ""
    },
    "tags": []
   },
   "outputs": [
    {
     "name": "stdout",
     "output_type": "stream",
     "text": [
      "8\n"
     ]
    },
    {
     "data": {
      "text/plain": [
       "['ACCESS-CM2', 'ACCESS-ESM1-5', 'AWI-ESM-1-1-LR', 'BCC-CSM2-MR', 'BCC-ESM1']"
      ]
     },
     "execution_count": 9,
     "metadata": {},
     "output_type": "execute_result"
    }
   ],
   "source": [
    "nelem = 5\n",
    "models_seq = [models_list[i * nelem : (i + 1) * nelem] for i in range(8)]\n",
    "print(len(models_seq))\n",
    "models_list = models_seq[n]\n",
    "models_list"
   ]
  },
  {
   "cell_type": "markdown",
   "id": "2e86f244",
   "metadata": {
    "tags": [
     "papermill-error-cell-tag"
    ]
   },
   "source": [
    "<span id=\"papermill-error-cell\" style=\"color:red; font-family:Helvetica Neue, Helvetica, Arial, sans-serif; font-size:2em;\">Execution using papermill encountered an exception here and stopped:</span>"
   ]
  },
  {
   "cell_type": "code",
   "execution_count": 10,
   "id": "c604fed1-e6e9-4ab6-badd-cfdaa639260b",
   "metadata": {
    "execution": {
     "iopub.execute_input": "2024-12-12T18:36:34.486332Z",
     "iopub.status.busy": "2024-12-12T18:36:34.486078Z",
     "iopub.status.idle": "2024-12-12T19:36:22.694842Z",
     "shell.execute_reply": "2024-12-12T19:36:22.689266Z"
    },
    "papermill": {
     "duration": 3588.35016,
     "end_time": "2024-12-12T19:36:22.811734",
     "exception": true,
     "start_time": "2024-12-12T18:36:34.461574",
     "status": "failed"
    },
    "tags": []
   },
   "outputs": [
    {
     "name": "stdout",
     "output_type": "stream",
     "text": [
      "Doing model: ACCESS-CM2\n"
     ]
    },
    {
     "name": "stdout",
     "output_type": "stream",
     "text": [
      "\t- Doing r1i1p1f1\n"
     ]
    },
    {
     "name": "stdout",
     "output_type": "stream",
     "text": [
      "\t- Doing r2i1p1f1\n"
     ]
    },
    {
     "name": "stdout",
     "output_type": "stream",
     "text": [
      "\t- Doing r3i1p1f1\n"
     ]
    },
    {
     "name": "stdout",
     "output_type": "stream",
     "text": [
      "Doing model: ACCESS-ESM1-5\n"
     ]
    },
    {
     "name": "stdout",
     "output_type": "stream",
     "text": [
      "\t- Doing r1i1p1f1\n"
     ]
    },
    {
     "name": "stdout",
     "output_type": "stream",
     "text": [
      "\t- Doing r2i1p1f1\n"
     ]
    },
    {
     "name": "stdout",
     "output_type": "stream",
     "text": [
      "\t- Doing r3i1p1f1\n"
     ]
    },
    {
     "name": "stdout",
     "output_type": "stream",
     "text": [
      "Doing model: AWI-ESM-1-1-LR\n"
     ]
    },
    {
     "name": "stdout",
     "output_type": "stream",
     "text": [
      "\t- Doing r1i1p1f1\n"
     ]
    },
    {
     "ename": "TypeError",
     "evalue": "buffer is too small for requested array",
     "output_type": "error",
     "traceback": [
      "\u001b[0;31m---------------------------------------------------------------------------\u001b[0m",
      "\u001b[0;31mTypeError\u001b[0m                                 Traceback (most recent call last)",
      "Cell \u001b[0;32mIn[10], line 103\u001b[0m\n\u001b[1;32m     97\u001b[0m     \u001b[38;5;28;01mpass\u001b[39;00m\n\u001b[1;32m     98\u001b[0m \u001b[38;5;66;03m# try:\u001b[39;00m\n\u001b[1;32m     99\u001b[0m \u001b[38;5;66;03m#     _var_data[\"olevel\"] = abs(_var_data.olevel)\u001b[39;00m\n\u001b[1;32m    100\u001b[0m \u001b[38;5;66;03m#     _var_data = _var_data.sortby(\"olevel\").sel(olevel=slice(None, 300))\u001b[39;00m\n\u001b[1;32m    101\u001b[0m \u001b[38;5;66;03m# except:\u001b[39;00m\n\u001b[1;32m    102\u001b[0m \u001b[38;5;66;03m#     pass\u001b[39;00m\n\u001b[0;32m--> 103\u001b[0m regridder \u001b[38;5;241m=\u001b[39m \u001b[43mxe\u001b[49m\u001b[38;5;241;43m.\u001b[39;49m\u001b[43mRegridder\u001b[49m\u001b[43m(\u001b[49m\n\u001b[1;32m    104\u001b[0m \u001b[43m    \u001b[49m\u001b[43m_var_data\u001b[49m\u001b[38;5;241;43m.\u001b[39;49m\u001b[43misel\u001b[49m\u001b[43m(\u001b[49m\u001b[43mtime\u001b[49m\u001b[38;5;241;43m=\u001b[39;49m\u001b[38;5;241;43m0\u001b[39;49m\u001b[43m,\u001b[49m\u001b[43m \u001b[49m\u001b[43mdrop\u001b[49m\u001b[38;5;241;43m=\u001b[39;49m\u001b[38;5;28;43;01mTrue\u001b[39;49;00m\u001b[43m)\u001b[49m\u001b[43m,\u001b[49m\n\u001b[1;32m    105\u001b[0m \u001b[43m    \u001b[49m\u001b[43mtarget_rect_grid\u001b[49m\u001b[43m,\u001b[49m\n\u001b[1;32m    106\u001b[0m \u001b[43m    \u001b[49m\u001b[38;5;124;43m\"\u001b[39;49m\u001b[38;5;124;43mbilinear\u001b[39;49m\u001b[38;5;124;43m\"\u001b[39;49m\u001b[43m,\u001b[49m\n\u001b[1;32m    107\u001b[0m \u001b[43m    \u001b[49m\u001b[43mperiodic\u001b[49m\u001b[38;5;241;43m=\u001b[39;49m\u001b[38;5;28;43;01mTrue\u001b[39;49;00m\u001b[43m,\u001b[49m\n\u001b[1;32m    108\u001b[0m \u001b[43m    \u001b[49m\u001b[43mignore_degenerate\u001b[49m\u001b[38;5;241;43m=\u001b[39;49m\u001b[38;5;28;43;01mTrue\u001b[39;49;00m\u001b[43m,\u001b[49m\n\u001b[1;32m    109\u001b[0m \u001b[43m\u001b[49m\u001b[43m)\u001b[49m\n\u001b[1;32m    110\u001b[0m _var_data \u001b[38;5;241m=\u001b[39m regridder(_var_data)\n\u001b[1;32m    111\u001b[0m _var_data \u001b[38;5;241m=\u001b[39m _var_data\u001b[38;5;241m.\u001b[39mconvert_calendar(\u001b[38;5;124m\"\u001b[39m\u001b[38;5;124mstandard\u001b[39m\u001b[38;5;124m\"\u001b[39m, align_on\u001b[38;5;241m=\u001b[39m\u001b[38;5;124m\"\u001b[39m\u001b[38;5;124mdate\u001b[39m\u001b[38;5;124m\"\u001b[39m)\n",
      "File \u001b[0;32m/glade/work/griverat/conda-envs/keras/lib/python3.10/site-packages/xesmf/frontend.py:919\u001b[0m, in \u001b[0;36mRegridder.__init__\u001b[0;34m(self, ds_in, ds_out, method, locstream_in, locstream_out, periodic, parallel, **kwargs)\u001b[0m\n\u001b[1;32m    917\u001b[0m     grid_in, shape_in, input_dims \u001b[38;5;241m=\u001b[39m ds_to_ESMFlocstream(ds_in)\n\u001b[1;32m    918\u001b[0m \u001b[38;5;28;01melse\u001b[39;00m:\n\u001b[0;32m--> 919\u001b[0m     grid_in, shape_in, input_dims \u001b[38;5;241m=\u001b[39m \u001b[43mds_to_ESMFgrid\u001b[49m\u001b[43m(\u001b[49m\n\u001b[1;32m    920\u001b[0m \u001b[43m        \u001b[49m\u001b[43mds_in\u001b[49m\u001b[43m,\u001b[49m\u001b[43m \u001b[49m\u001b[43mneed_bounds\u001b[49m\u001b[38;5;241;43m=\u001b[39;49m\u001b[43mneed_bounds\u001b[49m\u001b[43m,\u001b[49m\u001b[43m \u001b[49m\u001b[43mperiodic\u001b[49m\u001b[38;5;241;43m=\u001b[39;49m\u001b[43mperiodic\u001b[49m\n\u001b[1;32m    921\u001b[0m \u001b[43m    \u001b[49m\u001b[43m)\u001b[49m\n\u001b[1;32m    922\u001b[0m \u001b[38;5;28;01mif\u001b[39;00m locstream_out:\n\u001b[1;32m    923\u001b[0m     grid_out, shape_out, output_dims \u001b[38;5;241m=\u001b[39m ds_to_ESMFlocstream(ds_out)\n",
      "File \u001b[0;32m/glade/work/griverat/conda-envs/keras/lib/python3.10/site-packages/xesmf/frontend.py:164\u001b[0m, in \u001b[0;36mds_to_ESMFgrid\u001b[0;34m(ds, need_bounds, periodic, append)\u001b[0m\n\u001b[1;32m    162\u001b[0m     grid \u001b[38;5;241m=\u001b[39m Grid\u001b[38;5;241m.\u001b[39mfrom_xarray(lon\u001b[38;5;241m.\u001b[39mT, lat\u001b[38;5;241m.\u001b[39mT, periodic\u001b[38;5;241m=\u001b[39mperiodic, mask\u001b[38;5;241m=\u001b[39mmask\u001b[38;5;241m.\u001b[39mT)\n\u001b[1;32m    163\u001b[0m \u001b[38;5;28;01melse\u001b[39;00m:\n\u001b[0;32m--> 164\u001b[0m     grid \u001b[38;5;241m=\u001b[39m \u001b[43mGrid\u001b[49m\u001b[38;5;241;43m.\u001b[39;49m\u001b[43mfrom_xarray\u001b[49m\u001b[43m(\u001b[49m\u001b[43mlon\u001b[49m\u001b[38;5;241;43m.\u001b[39;49m\u001b[43mT\u001b[49m\u001b[43m,\u001b[49m\u001b[43m \u001b[49m\u001b[43mlat\u001b[49m\u001b[38;5;241;43m.\u001b[39;49m\u001b[43mT\u001b[49m\u001b[43m,\u001b[49m\u001b[43m \u001b[49m\u001b[43mperiodic\u001b[49m\u001b[38;5;241;43m=\u001b[39;49m\u001b[43mperiodic\u001b[49m\u001b[43m,\u001b[49m\u001b[43m \u001b[49m\u001b[43mmask\u001b[49m\u001b[38;5;241;43m=\u001b[39;49m\u001b[38;5;28;43;01mNone\u001b[39;49;00m\u001b[43m)\u001b[49m\n\u001b[1;32m    166\u001b[0m \u001b[38;5;28;01mif\u001b[39;00m need_bounds:\n\u001b[1;32m    167\u001b[0m     lon_b, lat_b \u001b[38;5;241m=\u001b[39m _get_lon_lat_bounds(ds)\n",
      "File \u001b[0;32m/glade/work/griverat/conda-envs/keras/lib/python3.10/site-packages/xesmf/backend.py:114\u001b[0m, in \u001b[0;36mGrid.from_xarray\u001b[0;34m(cls, lon, lat, periodic, mask)\u001b[0m\n\u001b[1;32m    108\u001b[0m     num_peri_dims \u001b[38;5;241m=\u001b[39m \u001b[38;5;28;01mNone\u001b[39;00m\n\u001b[1;32m    110\u001b[0m \u001b[38;5;66;03m# ESMPy documentation claims that if staggerloc and coord_sys are None,\u001b[39;00m\n\u001b[1;32m    111\u001b[0m \u001b[38;5;66;03m# they will be set to default values (CENTER and SPH_DEG).\u001b[39;00m\n\u001b[1;32m    112\u001b[0m \u001b[38;5;66;03m# However, they actually need to be set explicitly,\u001b[39;00m\n\u001b[1;32m    113\u001b[0m \u001b[38;5;66;03m# otherwise grid._coord_sys and grid._staggerloc will still be None.\u001b[39;00m\n\u001b[0;32m--> 114\u001b[0m grid \u001b[38;5;241m=\u001b[39m \u001b[38;5;28;43mcls\u001b[39;49m\u001b[43m(\u001b[49m\n\u001b[1;32m    115\u001b[0m \u001b[43m    \u001b[49m\u001b[43mnp\u001b[49m\u001b[38;5;241;43m.\u001b[39;49m\u001b[43marray\u001b[49m\u001b[43m(\u001b[49m\u001b[43mlon\u001b[49m\u001b[38;5;241;43m.\u001b[39;49m\u001b[43mshape\u001b[49m\u001b[43m)\u001b[49m\u001b[43m,\u001b[49m\n\u001b[1;32m    116\u001b[0m \u001b[43m    \u001b[49m\u001b[43mstaggerloc\u001b[49m\u001b[38;5;241;43m=\u001b[39;49m\u001b[43mstaggerloc\u001b[49m\u001b[43m,\u001b[49m\n\u001b[1;32m    117\u001b[0m \u001b[43m    \u001b[49m\u001b[43mcoord_sys\u001b[49m\u001b[38;5;241;43m=\u001b[39;49m\u001b[43mESMF\u001b[49m\u001b[38;5;241;43m.\u001b[39;49m\u001b[43mCoordSys\u001b[49m\u001b[38;5;241;43m.\u001b[39;49m\u001b[43mSPH_DEG\u001b[49m\u001b[43m,\u001b[49m\n\u001b[1;32m    118\u001b[0m \u001b[43m    \u001b[49m\u001b[43mnum_peri_dims\u001b[49m\u001b[38;5;241;43m=\u001b[39;49m\u001b[43mnum_peri_dims\u001b[49m\u001b[43m,\u001b[49m\n\u001b[1;32m    119\u001b[0m \u001b[43m\u001b[49m\u001b[43m)\u001b[49m\n\u001b[1;32m    121\u001b[0m \u001b[38;5;66;03m# The grid object points to the underlying Fortran arrays in ESMF.\u001b[39;00m\n\u001b[1;32m    122\u001b[0m \u001b[38;5;66;03m# To modify lat/lon coordinates, need to get pointers to them\u001b[39;00m\n\u001b[1;32m    123\u001b[0m lon_pointer \u001b[38;5;241m=\u001b[39m grid\u001b[38;5;241m.\u001b[39mget_coords(coord_dim\u001b[38;5;241m=\u001b[39m\u001b[38;5;241m0\u001b[39m, staggerloc\u001b[38;5;241m=\u001b[39mstaggerloc)\n",
      "File \u001b[0;32m/glade/work/griverat/conda-envs/keras/lib/python3.10/site-packages/esmpy/util/decorators.py:59\u001b[0m, in \u001b[0;36minitialize.<locals>.new_func\u001b[0;34m(*args, **kwargs)\u001b[0m\n\u001b[1;32m     56\u001b[0m \u001b[38;5;28;01mfrom\u001b[39;00m \u001b[38;5;21;01mesmpy\u001b[39;00m\u001b[38;5;21;01m.\u001b[39;00m\u001b[38;5;21;01mapi\u001b[39;00m \u001b[38;5;28;01mimport\u001b[39;00m esmpymanager\n\u001b[1;32m     58\u001b[0m esmp \u001b[38;5;241m=\u001b[39m esmpymanager\u001b[38;5;241m.\u001b[39mManager(debug \u001b[38;5;241m=\u001b[39m \u001b[38;5;28;01mFalse\u001b[39;00m)\n\u001b[0;32m---> 59\u001b[0m \u001b[38;5;28;01mreturn\u001b[39;00m \u001b[43mfunc\u001b[49m\u001b[43m(\u001b[49m\u001b[38;5;241;43m*\u001b[39;49m\u001b[43margs\u001b[49m\u001b[43m,\u001b[49m\u001b[43m \u001b[49m\u001b[38;5;241;43m*\u001b[39;49m\u001b[38;5;241;43m*\u001b[39;49m\u001b[43mkwargs\u001b[49m\u001b[43m)\u001b[49m\n",
      "File \u001b[0;32m/glade/work/griverat/conda-envs/keras/lib/python3.10/site-packages/esmpy/api/grid.py:479\u001b[0m, in \u001b[0;36mGrid.__init__\u001b[0;34m(self, max_index, num_peri_dims, periodic_dim, pole_dim, coord_sys, coord_typekind, staggerloc, pole_kind, filename, filetype, reg_decomp, decompflag, is_sphere, add_corner_stagger, add_user_area, add_mask, varname, coord_names, tilesize, regDecompPTile, name)\u001b[0m\n\u001b[1;32m    454\u001b[0m \u001b[38;5;66;03m# if self.decount == 1:\u001b[39;00m\n\u001b[1;32m    455\u001b[0m \u001b[38;5;66;03m# elif self.decount > 1:\u001b[39;00m\n\u001b[1;32m    456\u001b[0m \u001b[38;5;66;03m#     # lower_bounds[de][staggerLoc]\u001b[39;00m\n\u001b[0;32m   (...)\u001b[0m\n\u001b[1;32m    476\u001b[0m \n\u001b[1;32m    477\u001b[0m \u001b[38;5;66;03m# Add coordinates if a staggerloc is specified\u001b[39;00m\n\u001b[1;32m    478\u001b[0m \u001b[38;5;28;01mif\u001b[39;00m \u001b[38;5;129;01mnot\u001b[39;00m \u001b[38;5;28misinstance\u001b[39m(staggerloc, \u001b[38;5;28mtype\u001b[39m(\u001b[38;5;28;01mNone\u001b[39;00m)):\n\u001b[0;32m--> 479\u001b[0m     \u001b[38;5;28;43mself\u001b[39;49m\u001b[38;5;241;43m.\u001b[39;49m\u001b[43madd_coords\u001b[49m\u001b[43m(\u001b[49m\u001b[43mstaggerloc\u001b[49m\u001b[38;5;241;43m=\u001b[39;49m\u001b[43mstaggerloc\u001b[49m\u001b[43m,\u001b[49m\u001b[43m \u001b[49m\u001b[43mfrom_file\u001b[49m\u001b[38;5;241;43m=\u001b[39;49m\u001b[43mfrom_file\u001b[49m\u001b[43m)\u001b[49m\n\u001b[1;32m    481\u001b[0m \u001b[38;5;66;03m# Add items if they are specified, this is done after the\u001b[39;00m\n\u001b[1;32m    482\u001b[0m \u001b[38;5;66;03m# mask and area are initialized\u001b[39;00m\n\u001b[1;32m    483\u001b[0m \u001b[38;5;28;01mif\u001b[39;00m add_user_area:\n",
      "File \u001b[0;32m/glade/work/griverat/conda-envs/keras/lib/python3.10/site-packages/esmpy/api/grid.py:837\u001b[0m, in \u001b[0;36mGrid.add_coords\u001b[0;34m(self, staggerloc, coord_dim, from_file)\u001b[0m\n\u001b[1;32m    834\u001b[0m     ESMP_GridAddCoord(\u001b[38;5;28mself\u001b[39m, staggerloc\u001b[38;5;241m=\u001b[39mstagger)\n\u001b[1;32m    836\u001b[0m \u001b[38;5;66;03m# and now for Python\u001b[39;00m\n\u001b[0;32m--> 837\u001b[0m \u001b[38;5;28;43mself\u001b[39;49m\u001b[38;5;241;43m.\u001b[39;49m\u001b[43m_allocate_coords_\u001b[49m\u001b[43m(\u001b[49m\u001b[43mstagger\u001b[49m\u001b[43m,\u001b[49m\u001b[43m \u001b[49m\u001b[43mfrom_file\u001b[49m\u001b[38;5;241;43m=\u001b[39;49m\u001b[43mfrom_file\u001b[49m\u001b[43m)\u001b[49m\n\u001b[1;32m    839\u001b[0m \u001b[38;5;66;03m# set the staggerlocs to be done\u001b[39;00m\n\u001b[1;32m    840\u001b[0m \u001b[38;5;28mself\u001b[39m\u001b[38;5;241m.\u001b[39mstaggerloc[stagger] \u001b[38;5;241m=\u001b[39m \u001b[38;5;28;01mTrue\u001b[39;00m\n",
      "File \u001b[0;32m/glade/work/griverat/conda-envs/keras/lib/python3.10/site-packages/esmpy/api/grid.py:1062\u001b[0m, in \u001b[0;36mGrid._allocate_coords_\u001b[0;34m(self, stagger, localde, from_file)\u001b[0m\n\u001b[1;32m   1060\u001b[0m \u001b[38;5;28;01mif\u001b[39;00m (\u001b[38;5;28mself\u001b[39m\u001b[38;5;241m.\u001b[39mndims \u001b[38;5;241m==\u001b[39m \u001b[38;5;28mself\u001b[39m\u001b[38;5;241m.\u001b[39mrank) \u001b[38;5;129;01mor\u001b[39;00m (\u001b[38;5;28mself\u001b[39m\u001b[38;5;241m.\u001b[39mndims \u001b[38;5;241m==\u001b[39m \u001b[38;5;241m0\u001b[39m):\n\u001b[1;32m   1061\u001b[0m     \u001b[38;5;28;01mfor\u001b[39;00m xyz \u001b[38;5;129;01min\u001b[39;00m \u001b[38;5;28mrange\u001b[39m(\u001b[38;5;28mself\u001b[39m\u001b[38;5;241m.\u001b[39mrank):\n\u001b[0;32m-> 1062\u001b[0m         \u001b[38;5;28;43mself\u001b[39;49m\u001b[38;5;241;43m.\u001b[39;49m\u001b[43m_link_coord_buffer_\u001b[49m\u001b[43m(\u001b[49m\u001b[43mxyz\u001b[49m\u001b[43m,\u001b[49m\u001b[43m \u001b[49m\u001b[43mstagger\u001b[49m\u001b[43m,\u001b[49m\u001b[43m \u001b[49m\u001b[43mlocalde\u001b[49m\u001b[43m)\u001b[49m\n\u001b[1;32m   1063\u001b[0m \u001b[38;5;66;03m# and this way if we have 1d coordinates\u001b[39;00m\n\u001b[1;32m   1064\u001b[0m \u001b[38;5;28;01melif\u001b[39;00m \u001b[38;5;28mself\u001b[39m\u001b[38;5;241m.\u001b[39mndims \u001b[38;5;241m<\u001b[39m \u001b[38;5;28mself\u001b[39m\u001b[38;5;241m.\u001b[39mrank:\n",
      "File \u001b[0;32m/glade/work/griverat/conda-envs/keras/lib/python3.10/site-packages/esmpy/api/grid.py:1112\u001b[0m, in \u001b[0;36mGrid._link_coord_buffer_\u001b[0;34m(self, coord_dim, stagger, localde)\u001b[0m\n\u001b[1;32m   1109\u001b[0m data \u001b[38;5;241m=\u001b[39m ESMP_GridGetCoordPtr(\u001b[38;5;28mself\u001b[39m, coord_dim, staggerloc\u001b[38;5;241m=\u001b[39mstagger, localde\u001b[38;5;241m=\u001b[39mlocalde)\n\u001b[1;32m   1110\u001b[0m lb, ub \u001b[38;5;241m=\u001b[39m ESMP_GridGetCoordBounds(\u001b[38;5;28mself\u001b[39m, staggerloc\u001b[38;5;241m=\u001b[39mstagger, localde\u001b[38;5;241m=\u001b[39mlocalde)\n\u001b[0;32m-> 1112\u001b[0m gridCoordP \u001b[38;5;241m=\u001b[39m \u001b[43mndarray_from_esmf\u001b[49m\u001b[43m(\u001b[49m\u001b[43mdata\u001b[49m\u001b[43m,\u001b[49m\u001b[43m \u001b[49m\u001b[38;5;28;43mself\u001b[39;49m\u001b[38;5;241;43m.\u001b[39;49m\u001b[43mtype\u001b[49m\u001b[43m,\u001b[49m\u001b[43m \u001b[49m\u001b[43mub\u001b[49m\u001b[38;5;241;43m-\u001b[39;49m\u001b[43mlb\u001b[49m\u001b[43m)\u001b[49m\n\u001b[1;32m   1114\u001b[0m \u001b[38;5;66;03m# alias the coordinates to a grid property\u001b[39;00m\n\u001b[1;32m   1115\u001b[0m \u001b[38;5;28mself\u001b[39m\u001b[38;5;241m.\u001b[39m_coords[stagger][coord_dim] \u001b[38;5;241m=\u001b[39m gridCoordP\n",
      "File \u001b[0;32m/glade/work/griverat/conda-envs/keras/lib/python3.10/site-packages/esmpy/util/esmpyarray.py:38\u001b[0m, in \u001b[0;36mndarray_from_esmf\u001b[0;34m(data, dtype, shape)\u001b[0m\n\u001b[1;32m     33\u001b[0m \u001b[38;5;28;01melse\u001b[39;00m:\n\u001b[1;32m     34\u001b[0m     buffer \u001b[38;5;241m=\u001b[39m np\u001b[38;5;241m.\u001b[39mcore\u001b[38;5;241m.\u001b[39mmultiarray\u001b[38;5;241m.\u001b[39mint_asbuffer(\n\u001b[1;32m     35\u001b[0m         ct\u001b[38;5;241m.\u001b[39maddressof(data\u001b[38;5;241m.\u001b[39mcontents), size)\n\u001b[0;32m---> 38\u001b[0m esmfarray \u001b[38;5;241m=\u001b[39m \u001b[43mnp\u001b[49m\u001b[38;5;241;43m.\u001b[39;49m\u001b[43mndarray\u001b[49m\u001b[43m(\u001b[49m\u001b[38;5;28;43mtuple\u001b[39;49m\u001b[43m(\u001b[49m\u001b[43mshape\u001b[49m\u001b[43m[\u001b[49m\u001b[43m:\u001b[49m\u001b[43m]\u001b[49m\u001b[43m)\u001b[49m\u001b[43m,\u001b[49m\u001b[43m \u001b[49m\u001b[43mconstants\u001b[49m\u001b[38;5;241;43m.\u001b[39;49m\u001b[43m_ESMF2PythonType\u001b[49m\u001b[43m[\u001b[49m\u001b[43mdtype\u001b[49m\u001b[43m]\u001b[49m\u001b[43m,\u001b[49m\n\u001b[1;32m     39\u001b[0m \u001b[43m                       \u001b[49m\u001b[43mbuffer\u001b[49m\u001b[43m,\u001b[49m\u001b[43m \u001b[49m\u001b[43morder\u001b[49m\u001b[38;5;241;43m=\u001b[39;49m\u001b[38;5;124;43m\"\u001b[39;49m\u001b[38;5;124;43mF\u001b[39;49m\u001b[38;5;124;43m\"\u001b[39;49m\u001b[43m)\u001b[49m\n\u001b[1;32m     41\u001b[0m \u001b[38;5;28;01mreturn\u001b[39;00m esmfarray\n",
      "\u001b[0;31mTypeError\u001b[0m: buffer is too small for requested array"
     ]
    }
   ],
   "source": [
    "target_depth_levels = np.arange(0, 350, 5)\n",
    "grid_loc = dict(tos=\"center\", thetao=\"center\", vo=\"left\", wo=\"left\", uo=\"left\")\n",
    "\n",
    "model_container = {}\n",
    "zlabels = [\"lev\", \"level\", \"olevel\", \"deptht\", \"depthv\", \"depthu\", \"depthw\"]\n",
    "for model_name in models_list:\n",
    "    print(f\"Doing model: {model_name}\")\n",
    "    # model_query = col.search(\n",
    "    #     **common_query,\n",
    "    #     variable_id=flat_var_list,\n",
    "    #     source_id=model_name,\n",
    "    #     table_id=list(var_list.keys()),\n",
    "    # )\n",
    "    model_query = col.query(\n",
    "        f\"{common_query} & \"\n",
    "        \"(variable_id in @flat_var_list) & \"\n",
    "        \"(source_id == @model_name) & \"\n",
    "        \"(table_id in @var_list.keys())\"\n",
    "    )\n",
    "\n",
    "    # member_list = natsorted(\n",
    "    #     model_query.member_id.unique(),\n",
    "    #     key=lambda x: sum(map(int, re.split(\"[ripf]\", x)[1:])),\n",
    "    # )\n",
    "    # model_query = model_query.search(member_id=member_list)\n",
    "    # model_query = model_query.query(\"member_id in @member_list\")\n",
    "    # if model_query.grid_label.unique().size > 1:\n",
    "    #     print(model_name)\n",
    "    # grid_labels = model_query.grid_label.unique()\n",
    "    # if grid_labels.size > 2:\n",
    "    #     break\n",
    "    member_groups = (\n",
    "        model_query.groupby([\"member_id\", \"variable_id\"]).first().reset_index()\n",
    "    )[model_query.columns]\n",
    "\n",
    "    member_mask = member_groups.groupby(\"member_id\").variable_id.count() == len(\n",
    "        flat_var_list\n",
    "    )\n",
    "    member_mask = member_mask[member_mask].index.values\n",
    "\n",
    "    if member_mask.size == 0:\n",
    "        continue\n",
    "\n",
    "    member_mask = natsorted(\n",
    "        member_mask,\n",
    "        key=lambda x: sum(map(int, re.split(\"[ripf]\", x)[1:])),\n",
    "    )[:3]\n",
    "    member_groups = member_groups.query(\"member_id in @member_mask\")\n",
    "\n",
    "    model_container[model_name] = []\n",
    "    for _member in member_mask:\n",
    "        print(f\"\\t- Doing {_member}\")\n",
    "        _sel_member = member_groups.query(\"member_id == @_member\").sort_values(\n",
    "            \"variable_id\", ascending=False\n",
    "        )\n",
    "        _member_ds = []\n",
    "        _prev_lev = None\n",
    "        for _zstore in _sel_member.zstore.values:\n",
    "            _var_data = xr.open_zarr(fsspec.get_mapper(_zstore), consolidated=True)\n",
    "            try:\n",
    "                _var_data = _var_data.rename(latitude=\"lat\", longitude=\"lon\")\n",
    "            except Exception as e:\n",
    "                pass\n",
    "            try:\n",
    "                for _zlabel in zlabels:\n",
    "                    zcoord = _var_data.get(_zlabel, None)\n",
    "                    if zcoord is not None:\n",
    "                        zcoord = _zlabel\n",
    "                        break\n",
    "                units = _var_data[zcoord].attrs.get(\"units\", None)\n",
    "                if units in [\"centimeters\", \"cm\"]:\n",
    "                    _var_data[zcoord] = _var_data[zcoord] / 1e3\n",
    "                if _var_data[zcoord].isnull().sum() == 0:\n",
    "                    _prev_lev = _var_data[zcoord]\n",
    "                if _prev_lev is not None and _var_data[zcoord].isnull().sum() > 0:\n",
    "                    _var_data[zcoord] = _prev_lev.data\n",
    "                _var_data = _var_data.sel(**{zcoord: slice(None, 500)})\n",
    "                _var_name = _zstore.split(\"/\")[-4]\n",
    "                grid = Grid(\n",
    "                    _var_data,\n",
    "                    coords={\n",
    "                        \"Z\": {grid_loc[_var_name]: zcoord},\n",
    "                    },\n",
    "                    periodic=False,\n",
    "                )\n",
    "                _var_data = grid.transform(\n",
    "                    _var_data[_var_name],\n",
    "                    \"Z\",\n",
    "                    target_depth_levels,\n",
    "                    target_data=None,\n",
    "                    method=\"linear\",\n",
    "                ).rename({zcoord: \"lev\"})\n",
    "                _var_data.name = _var_name\n",
    "                _var_data = _var_data.to_dataset()\n",
    "            except Exception as e:\n",
    "                # print(e)\n",
    "                pass\n",
    "            # try:\n",
    "            #     _var_data[\"olevel\"] = abs(_var_data.olevel)\n",
    "            #     _var_data = _var_data.sortby(\"olevel\").sel(olevel=slice(None, 300))\n",
    "            # except:\n",
    "            #     pass\n",
    "            regridder = xe.Regridder(\n",
    "                _var_data.isel(time=0, drop=True),\n",
    "                target_rect_grid,\n",
    "                \"bilinear\",\n",
    "                periodic=True,\n",
    "                ignore_degenerate=True,\n",
    "            )\n",
    "            _var_data = regridder(_var_data)\n",
    "            _var_data = _var_data.convert_calendar(\"standard\", align_on=\"date\")\n",
    "            _var_data[\"time\"] = (\n",
    "                _var_data.indexes[\"time\"]\n",
    "                .to_series()\n",
    "                .apply(\n",
    "                    lambda x: x.replace(\n",
    "                        day=15, hour=0, minute=0, second=0, microsecond=0\n",
    "                    )\n",
    "                )\n",
    "            )\n",
    "            _member_ds.append(_var_data)\n",
    "        _member_ds = xr.combine_by_coords(_member_ds, compat=\"override\")[flat_var_list]\n",
    "        _member_ds[\"y\"] = _member_ds.lat[:, 0].data\n",
    "        _member_ds[\"x\"] = _member_ds.lon[0, :].data\n",
    "        _member_ds = _member_ds.drop_vars([\"lat\", \"lon\"]).rename(y=\"lat\", x=\"lon\")\n",
    "        _member_ds.to_netcdf(\n",
    "            f\"/glade/derecho/scratch/griverat/ics_CMIP6/{model_name}.{_member}.nc\"\n",
    "        )\n",
    "        model_container[model_name].append(_member)"
   ]
  },
  {
   "cell_type": "code",
   "execution_count": null,
   "id": "c7ce81a1-651b-4d94-b6f8-b90517fa9498",
   "metadata": {
    "papermill": {
     "duration": null,
     "end_time": null,
     "exception": null,
     "start_time": null,
     "status": "pending"
    },
    "tags": []
   },
   "outputs": [],
   "source": [
    "model_container"
   ]
  }
 ],
 "metadata": {
  "kernelspec": {
   "display_name": "Python [conda env:keras]",
   "language": "python",
   "name": "conda-env-keras-py"
  },
  "language_info": {
   "codemirror_mode": {
    "name": "ipython",
    "version": 3
   },
   "file_extension": ".py",
   "mimetype": "text/x-python",
   "name": "python",
   "nbconvert_exporter": "python",
   "pygments_lexer": "ipython3",
   "version": "3.10.13"
  },
  "papermill": {
   "default_parameters": {},
   "duration": 3639.490987,
   "end_time": "2024-12-12T19:36:33.303404",
   "environment_variables": {},
   "exception": true,
   "input_path": "get_data.ipynb",
   "output_path": "output/get_data_0.ipynb",
   "parameters": {
    "n": 0
   },
   "start_time": "2024-12-12T18:35:53.812417",
   "version": "2.6.0"
  }
 },
 "nbformat": 4,
 "nbformat_minor": 5
}