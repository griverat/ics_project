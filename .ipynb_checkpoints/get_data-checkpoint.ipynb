{
 "cells": [
  {
   "cell_type": "code",
   "execution_count": null,
   "id": "a04f87d1-35f7-4fb5-97a2-7e490b35a4e6",
   "metadata": {},
   "outputs": [],
   "source": [
    "import json\n",
    "import os\n",
    "import re\n",
    "import warnings\n",
    "\n",
    "import fsspec\n",
    "import intake\n",
    "import numpy as np\n",
    "import pandas as pd\n",
    "import xarray as xr\n",
    "import xesmf as xe\n",
    "from dmelon.utils import check_folder\n",
    "from matplotlib import pyplot as plt\n",
    "from natsort import natsorted\n",
    "from xgcm import Grid\n",
    "from xmip.preprocessing import combined_preprocessing, replace_x_y_nominal_lat_lon\n",
    "\n",
    "warnings.filterwarnings(\"ignore\")\n",
    "xr.set_options(keep_attrs=True)"
   ]
  },
  {
   "cell_type": "code",
   "execution_count": null,
   "id": "6fc66254-a325-4c37-ac38-b53a870dd2d9",
   "metadata": {},
   "outputs": [],
   "source": [
    "# ROOT_DIR = \"/glade/work/griverat/DL-ECindex/\"\n",
    "# TARGET_RES = \"24x72\"\n",
    "# VARIABLE = \"tos\"\n",
    "# OUT_NAME_VAR = \"sst\"\n",
    "\n",
    "# OUT_PATH = os.path.join(ROOT_DIR, f\"DATA-Model/EC_model/CMIP6_gcp/\", VARIABLE)\n",
    "# TARGET_GRID_PATH = os.path.join(\n",
    "#     ROOT_DIR, f\"DATA-Model/EC_model/model.target.grid.{TARGET_RES}.nc\"\n",
    "# )\n",
    "\n",
    "# check_folder(OUT_PATH)"
   ]
  },
  {
   "cell_type": "code",
   "execution_count": null,
   "id": "5df6ef40-e250-4474-b681-72a408719ffe",
   "metadata": {
    "editable": true,
    "slideshow": {
     "slide_type": ""
    },
    "tags": [
     "parameters"
    ]
   },
   "outputs": [],
   "source": [
    "# parameters\n",
    "n = 0"
   ]
  },
  {
   "cell_type": "code",
   "execution_count": null,
   "id": "5400eb3b-dfde-4258-bea5-1562000137d3",
   "metadata": {},
   "outputs": [],
   "source": [
    "# url = \"https://storage.googleapis.com/cmip6/pangeo-cmip6-noQC.json\"\n",
    "# url = \"/glade/collections/cmip/catalog/intake-esm-datastore/catalogs/glade-cmip6.json\"\n",
    "# col = intake.open_esm_datastore(url)\n",
    "\n",
    "col = pd.read_csv(\n",
    "    \"https://storage.googleapis.com/cmip6/cmip6-zarr-consolidated-stores.csv\"\n",
    ")\n",
    "col.head()"
   ]
  },
  {
   "cell_type": "markdown",
   "id": "37e9b678-070e-473d-9ca9-ab79f7602cbb",
   "metadata": {},
   "source": [
    "We need to regrid the incoming CMIP6 data to a rectilinear grid first. This way we can later regrid again using a conservative method that works better between rectilinear grids."
   ]
  },
  {
   "cell_type": "code",
   "execution_count": null,
   "id": "dd0b13f6-80e4-4550-a871-8b72d10c64e3",
   "metadata": {},
   "outputs": [],
   "source": [
    "target_rect_grid = xe.util.grid_global(1, 1, lon1=360)\n",
    "target_rect_grid"
   ]
  },
  {
   "cell_type": "markdown",
   "id": "dc77f493-8fbb-4664-97fb-6dff314462d5",
   "metadata": {},
   "source": [
    "Now we load the target grid that our output data will have"
   ]
  },
  {
   "cell_type": "code",
   "execution_count": null,
   "id": "ba274d3d-a557-4d42-9e7a-f5d3ac1bc850",
   "metadata": {},
   "outputs": [],
   "source": [
    "# target_grid = xr.open_dataset(TARGET_GRID_PATH)\n",
    "# target_grid"
   ]
  },
  {
   "cell_type": "markdown",
   "id": "0d2088c6-5449-4fdd-9255-8e9fdde2efc4",
   "metadata": {},
   "source": [
    "Here we build the query to the intake catalog. We use sets here to easily find which models have all of the variables"
   ]
  },
  {
   "cell_type": "code",
   "execution_count": null,
   "id": "7c6e84ab-4c07-4294-ab46-55e75cf78e44",
   "metadata": {
    "editable": true,
    "slideshow": {
     "slide_type": ""
    },
    "tags": []
   },
   "outputs": [],
   "source": [
    "var_list = {\n",
    "    # \"Amon\": [\"pr\", \"tauu\", \"tauv\", \"rlds\", \"rlus\", \"rsds\", \"rsus\", \"hfls\", \"hfss\"],\n",
    "    \"Amon\": [\"pr\", \"uas\", \"vas\"],\n",
    "    \"Omon\": [\"tos\", \"zos\"]\n",
    "    # \"Omon\": [\"tos\", \"thetao\", \"vo\", \"uo\", \"wo\"],\n",
    "    # \"fx\": [\"sftlf\"]\n",
    "}\n",
    "flat_var_list = np.concatenate(list(var_list.values())).tolist()\n",
    "# [\"pr\", \"ts\", \"uo\", \"vo\", \"wo\", \"hfls\", \"hfss\", \"sftlf\"]\n",
    "\n",
    "ignore_models = set([\"AWI-CM-1-1-MR\"])\n",
    "\n",
    "# common_query = dict(activity_id=\"CMIP\", experiment_id=\"historical\")\n",
    "common_query = \"(activity_id == 'CMIP') & (experiment_id == 'historical')\"\n",
    "\n",
    "var_models = []\n",
    "\n",
    "for _k, _v in var_list.items():\n",
    "    for _var in _v:\n",
    "        var_models.append(\n",
    "            set(\n",
    "                # fmt: off\n",
    "                col.query(\n",
    "                    f\"{common_query} & \"\n",
    "                    \"(variable_id == @_var) & \"\n",
    "                    \"(table_id == @_k)\"\n",
    "                )[\"source_id\"].unique()\n",
    "                # fmt: on\n",
    "                # col.search(**common_query, variable_id=_var, table_id=_k)\n",
    "                # .df[\"source_id\"]\n",
    "                # .unique()\n",
    "            )\n",
    "        )\n",
    "\n",
    "models_list = list(\n",
    "    var_models[0].intersection(*var_models[1:]).difference(ignore_models)\n",
    ")\n",
    "models_list.sort()\n",
    "print(\n",
    "    f\"Found {len(models_list)} models with {var_list} monthly variables available\\n\\n{models_list}\"\n",
    ")"
   ]
  },
  {
   "cell_type": "code",
   "execution_count": null,
   "id": "3c481902-86fb-4ee1-8924-ff6333117983",
   "metadata": {
    "editable": true,
    "slideshow": {
     "slide_type": ""
    },
    "tags": []
   },
   "outputs": [],
   "source": [
    "nelem = 5\n",
    "models_seq = [models_list[i * nelem : (i + 1) * nelem] for i in range(8)]\n",
    "print(len(models_seq))\n",
    "models_list = models_seq[n]\n",
    "models_list"
   ]
  },
  {
   "cell_type": "code",
   "execution_count": null,
   "id": "c604fed1-e6e9-4ab6-badd-cfdaa639260b",
   "metadata": {},
   "outputs": [],
   "source": [
    "target_depth_levels = np.arange(0, 350, 5)\n",
    "grid_loc = dict(tos=\"center\", thetao=\"center\", vo=\"left\", wo=\"left\", uo=\"left\")\n",
    "\n",
    "model_container = {}\n",
    "zlabels = [\"lev\", \"level\", \"olevel\", \"deptht\", \"depthv\", \"depthu\", \"depthw\"]\n",
    "for model_name in models_list:\n",
    "    print(f\"Doing model: {model_name}\")\n",
    "    # model_query = col.search(\n",
    "    #     **common_query,\n",
    "    #     variable_id=flat_var_list,\n",
    "    #     source_id=model_name,\n",
    "    #     table_id=list(var_list.keys()),\n",
    "    # )\n",
    "    model_query = col.query(\n",
    "        f\"{common_query} & \"\n",
    "        \"(variable_id in @flat_var_list) & \"\n",
    "        \"(source_id == @model_name) & \"\n",
    "        \"(table_id in @var_list.keys())\"\n",
    "    )\n",
    "\n",
    "    # member_list = natsorted(\n",
    "    #     model_query.member_id.unique(),\n",
    "    #     key=lambda x: sum(map(int, re.split(\"[ripf]\", x)[1:])),\n",
    "    # )\n",
    "    # model_query = model_query.search(member_id=member_list)\n",
    "    # model_query = model_query.query(\"member_id in @member_list\")\n",
    "    # if model_query.grid_label.unique().size > 1:\n",
    "    #     print(model_name)\n",
    "    # grid_labels = model_query.grid_label.unique()\n",
    "    # if grid_labels.size > 2:\n",
    "    #     break\n",
    "    member_groups = (\n",
    "        model_query.groupby([\"member_id\", \"variable_id\"]).first().reset_index()\n",
    "    )[model_query.columns]\n",
    "\n",
    "    member_mask = member_groups.groupby(\"member_id\").variable_id.count() == len(\n",
    "        flat_var_list\n",
    "    )\n",
    "    member_mask = member_mask[member_mask].index.values\n",
    "\n",
    "    if member_mask.size == 0:\n",
    "        continue\n",
    "\n",
    "    member_mask = natsorted(\n",
    "        member_mask,\n",
    "        key=lambda x: sum(map(int, re.split(\"[ripf]\", x)[1:])),\n",
    "    )[:3]\n",
    "    member_groups = member_groups.query(\"member_id in @member_mask\")\n",
    "\n",
    "    model_container[model_name] = []\n",
    "    for _member in member_mask:\n",
    "        print(f\"\\t- Doing {_member}\")\n",
    "        _sel_member = member_groups.query(\"member_id == @_member\").sort_values(\n",
    "            \"variable_id\", ascending=False\n",
    "        )\n",
    "        _member_ds = []\n",
    "        _prev_lev = None\n",
    "        for _zstore in _sel_member.zstore.values:\n",
    "            _var_data = xr.open_zarr(fsspec.get_mapper(_zstore), consolidated=True)\n",
    "            try:\n",
    "                _var_data = _var_data.rename(latitude=\"lat\", longitude=\"lon\")\n",
    "            except Exception as e:\n",
    "                pass\n",
    "            try:\n",
    "                for _zlabel in zlabels:\n",
    "                    zcoord = _var_data.get(_zlabel, None)\n",
    "                    if zcoord is not None:\n",
    "                        zcoord = _zlabel\n",
    "                        break\n",
    "                units = _var_data[zcoord].attrs.get(\"units\", None)\n",
    "                if units in [\"centimeters\", \"cm\"]:\n",
    "                    _var_data[zcoord] = _var_data[zcoord] / 1e3\n",
    "                if _var_data[zcoord].isnull().sum() == 0:\n",
    "                    _prev_lev = _var_data[zcoord]\n",
    "                if _prev_lev is not None and _var_data[zcoord].isnull().sum() > 0:\n",
    "                    _var_data[zcoord] = _prev_lev.data\n",
    "                _var_data = _var_data.sel(**{zcoord: slice(None, 500)})\n",
    "                _var_name = _zstore.split(\"/\")[-4]\n",
    "                grid = Grid(\n",
    "                    _var_data,\n",
    "                    coords={\n",
    "                        \"Z\": {grid_loc[_var_name]: zcoord},\n",
    "                    },\n",
    "                    periodic=False,\n",
    "                )\n",
    "                _var_data = grid.transform(\n",
    "                    _var_data[_var_name],\n",
    "                    \"Z\",\n",
    "                    target_depth_levels,\n",
    "                    target_data=None,\n",
    "                    method=\"linear\",\n",
    "                ).rename({zcoord: \"lev\"})\n",
    "                _var_data.name = _var_name\n",
    "                _var_data = _var_data.to_dataset()\n",
    "            except Exception as e:\n",
    "                # print(e)\n",
    "                pass\n",
    "            # try:\n",
    "            #     _var_data[\"olevel\"] = abs(_var_data.olevel)\n",
    "            #     _var_data = _var_data.sortby(\"olevel\").sel(olevel=slice(None, 300))\n",
    "            # except:\n",
    "            #     pass\n",
    "            regridder = xe.Regridder(\n",
    "                _var_data.isel(time=0, drop=True),\n",
    "                target_rect_grid,\n",
    "                \"bilinear\",\n",
    "                periodic=True,\n",
    "                ignore_degenerate=True,\n",
    "            )\n",
    "            _var_data = regridder(_var_data)\n",
    "            _var_data = _var_data.convert_calendar(\"standard\", align_on=\"date\")\n",
    "            _var_data[\"time\"] = (\n",
    "                _var_data.indexes[\"time\"]\n",
    "                .to_series()\n",
    "                .apply(\n",
    "                    lambda x: x.replace(\n",
    "                        day=15, hour=0, minute=0, second=0, microsecond=0\n",
    "                    )\n",
    "                )\n",
    "            )\n",
    "            _member_ds.append(_var_data)\n",
    "        _member_ds = xr.combine_by_coords(_member_ds, compat=\"override\")[flat_var_list]\n",
    "        _member_ds[\"y\"] = _member_ds.lat[:, 0].data\n",
    "        _member_ds[\"x\"] = _member_ds.lon[0, :].data\n",
    "        _member_ds = _member_ds.drop_vars([\"lat\", \"lon\"]).rename(y=\"lat\", x=\"lon\")\n",
    "        _member_ds.to_netcdf(\n",
    "            f\"/glade/derecho/scratch/griverat/ics_CMIP6/{model_name}.{_member}.nc\"\n",
    "        )\n",
    "        model_container[model_name].append(_member)"
   ]
  },
  {
   "cell_type": "code",
   "execution_count": null,
   "id": "c7ce81a1-651b-4d94-b6f8-b90517fa9498",
   "metadata": {},
   "outputs": [],
   "source": [
    "model_container"
   ]
  }
 ],
 "metadata": {
  "kernelspec": {
   "display_name": "Python [conda env:keras]",
   "language": "python",
   "name": "conda-env-keras-py"
  },
  "language_info": {
   "codemirror_mode": {
    "name": "ipython",
    "version": 3
   },
   "file_extension": ".py",
   "mimetype": "text/x-python",
   "name": "python",
   "nbconvert_exporter": "python",
   "pygments_lexer": "ipython3",
   "version": "3.10.13"
  }
 },
 "nbformat": 4,
 "nbformat_minor": 5
}
